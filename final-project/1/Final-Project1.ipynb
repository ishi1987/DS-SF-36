{
 "cells": [
  {
   "cell_type": "code",
   "execution_count": 7,
   "metadata": {
    "collapsed": true
   },
   "outputs": [],
   "source": [
    "import os\n",
    "import pandas as pd\n",
    "\n",
    "pd.set_option('display.max_rows', 10)\n",
    "pd.set_option('display.max_columns', 10)\n",
    "pd.set_option('display.notebook_repr_html', True)\n",
    "\n",
    "df = pd.read_csv('DataSetGA.csv')\n",
    "\n",
    "import os\n",
    "\n",
    "import math\n",
    "\n",
    "import numpy as np\n",
    "import pandas as pd\n",
    "pd.set_option('display.max_rows', 20)\n",
    "pd.set_option('display.notebook_repr_html', True)\n",
    "pd.set_option('display.max_columns', 10)\n",
    "\n",
    "import matplotlib.pyplot as plt\n",
    "%matplotlib inline\n",
    "plt.style.use('ggplot')"
   ]
  },
  {
   "cell_type": "code",
   "execution_count": 8,
   "metadata": {},
   "outputs": [
    {
     "data": {
      "text/plain": [
       "(128386, 11)"
      ]
     },
     "execution_count": 8,
     "metadata": {},
     "output_type": "execute_result"
    }
   ],
   "source": [
    "df.shape\n"
   ]
  },
  {
   "cell_type": "code",
   "execution_count": null,
   "metadata": {
    "collapsed": true
   },
   "outputs": [],
   "source": []
  },
  {
   "cell_type": "code",
   "execution_count": 9,
   "metadata": {},
   "outputs": [
    {
     "data": {
      "text/html": [
       "<div>\n",
       "<style>\n",
       "    .dataframe thead tr:only-child th {\n",
       "        text-align: right;\n",
       "    }\n",
       "\n",
       "    .dataframe thead th {\n",
       "        text-align: left;\n",
       "    }\n",
       "\n",
       "    .dataframe tbody tr th {\n",
       "        vertical-align: top;\n",
       "    }\n",
       "</style>\n",
       "<table border=\"1\" class=\"dataframe\">\n",
       "  <thead>\n",
       "    <tr style=\"text-align: right;\">\n",
       "      <th></th>\n",
       "      <th>DTE</th>\n",
       "      <th>MARKETINGCHANNELGROUP</th>\n",
       "      <th>USER_ID</th>\n",
       "      <th>FIRST_PRCHS_DATE</th>\n",
       "      <th>GENRE_CAT_FINAL</th>\n",
       "      <th>...</th>\n",
       "      <th>TICKETSSOLDFP</th>\n",
       "      <th>GMSFP</th>\n",
       "      <th>GCFS</th>\n",
       "      <th>M12TICKETSSOLD</th>\n",
       "      <th>M12GMS</th>\n",
       "    </tr>\n",
       "  </thead>\n",
       "  <tbody>\n",
       "    <tr>\n",
       "      <th>0</th>\n",
       "      <td>0</td>\n",
       "      <td>SEO</td>\n",
       "      <td>15561030</td>\n",
       "      <td>2016-07-09 00:00:00</td>\n",
       "      <td>Theater</td>\n",
       "      <td>...</td>\n",
       "      <td>2</td>\n",
       "      <td>322.30</td>\n",
       "      <td>1</td>\n",
       "      <td>0</td>\n",
       "      <td>0.00</td>\n",
       "    </tr>\n",
       "    <tr>\n",
       "      <th>1</th>\n",
       "      <td>0</td>\n",
       "      <td>SEO</td>\n",
       "      <td>33086170</td>\n",
       "      <td>2016-02-12 00:00:00</td>\n",
       "      <td>Theater</td>\n",
       "      <td>...</td>\n",
       "      <td>1</td>\n",
       "      <td>28.24</td>\n",
       "      <td>1</td>\n",
       "      <td>0</td>\n",
       "      <td>0.00</td>\n",
       "    </tr>\n",
       "    <tr>\n",
       "      <th>2</th>\n",
       "      <td>0</td>\n",
       "      <td>SEO</td>\n",
       "      <td>80288418</td>\n",
       "      <td>2016-02-21 00:00:00</td>\n",
       "      <td>Theater</td>\n",
       "      <td>...</td>\n",
       "      <td>2</td>\n",
       "      <td>97.04</td>\n",
       "      <td>1</td>\n",
       "      <td>2</td>\n",
       "      <td>250.44</td>\n",
       "    </tr>\n",
       "    <tr>\n",
       "      <th>3</th>\n",
       "      <td>0</td>\n",
       "      <td>SEO</td>\n",
       "      <td>84239376</td>\n",
       "      <td>2016-04-03 00:00:00</td>\n",
       "      <td>Theater</td>\n",
       "      <td>...</td>\n",
       "      <td>2</td>\n",
       "      <td>120.64</td>\n",
       "      <td>1</td>\n",
       "      <td>5</td>\n",
       "      <td>418.90</td>\n",
       "    </tr>\n",
       "    <tr>\n",
       "      <th>4</th>\n",
       "      <td>0</td>\n",
       "      <td>SEO</td>\n",
       "      <td>85569001</td>\n",
       "      <td>2016-01-13 00:00:00</td>\n",
       "      <td>Theater</td>\n",
       "      <td>...</td>\n",
       "      <td>2</td>\n",
       "      <td>238.98</td>\n",
       "      <td>1</td>\n",
       "      <td>0</td>\n",
       "      <td>0.00</td>\n",
       "    </tr>\n",
       "    <tr>\n",
       "      <th>5</th>\n",
       "      <td>0</td>\n",
       "      <td>SEO</td>\n",
       "      <td>85626578</td>\n",
       "      <td>2016-01-17 00:00:00</td>\n",
       "      <td>Theater</td>\n",
       "      <td>...</td>\n",
       "      <td>2</td>\n",
       "      <td>414.50</td>\n",
       "      <td>1</td>\n",
       "      <td>0</td>\n",
       "      <td>0.00</td>\n",
       "    </tr>\n",
       "    <tr>\n",
       "      <th>6</th>\n",
       "      <td>0</td>\n",
       "      <td>SEO</td>\n",
       "      <td>85813283</td>\n",
       "      <td>2016-01-30 00:00:00</td>\n",
       "      <td>Theater</td>\n",
       "      <td>...</td>\n",
       "      <td>1</td>\n",
       "      <td>119.49</td>\n",
       "      <td>1</td>\n",
       "      <td>0</td>\n",
       "      <td>0.00</td>\n",
       "    </tr>\n",
       "    <tr>\n",
       "      <th>7</th>\n",
       "      <td>0</td>\n",
       "      <td>SEO</td>\n",
       "      <td>85816143</td>\n",
       "      <td>2016-01-30 00:00:00</td>\n",
       "      <td>Theater</td>\n",
       "      <td>...</td>\n",
       "      <td>2</td>\n",
       "      <td>51.80</td>\n",
       "      <td>1</td>\n",
       "      <td>0</td>\n",
       "      <td>0.00</td>\n",
       "    </tr>\n",
       "    <tr>\n",
       "      <th>8</th>\n",
       "      <td>0</td>\n",
       "      <td>SEO</td>\n",
       "      <td>85903145</td>\n",
       "      <td>2016-05-20 00:00:00</td>\n",
       "      <td>Theater</td>\n",
       "      <td>...</td>\n",
       "      <td>3</td>\n",
       "      <td>159.72</td>\n",
       "      <td>1</td>\n",
       "      <td>0</td>\n",
       "      <td>0.00</td>\n",
       "    </tr>\n",
       "    <tr>\n",
       "      <th>9</th>\n",
       "      <td>0</td>\n",
       "      <td>SEO</td>\n",
       "      <td>85940441</td>\n",
       "      <td>2016-02-07 00:00:00</td>\n",
       "      <td>Theater</td>\n",
       "      <td>...</td>\n",
       "      <td>2</td>\n",
       "      <td>51.80</td>\n",
       "      <td>1</td>\n",
       "      <td>0</td>\n",
       "      <td>0.00</td>\n",
       "    </tr>\n",
       "    <tr>\n",
       "      <th>...</th>\n",
       "      <td>...</td>\n",
       "      <td>...</td>\n",
       "      <td>...</td>\n",
       "      <td>...</td>\n",
       "      <td>...</td>\n",
       "      <td>...</td>\n",
       "      <td>...</td>\n",
       "      <td>...</td>\n",
       "      <td>...</td>\n",
       "      <td>...</td>\n",
       "      <td>...</td>\n",
       "    </tr>\n",
       "    <tr>\n",
       "      <th>128376</th>\n",
       "      <td>394</td>\n",
       "      <td>Paid Search</td>\n",
       "      <td>86612794</td>\n",
       "      <td>2016-03-18 00:00:00</td>\n",
       "      <td>Theater</td>\n",
       "      <td>...</td>\n",
       "      <td>2</td>\n",
       "      <td>202.06</td>\n",
       "      <td>1</td>\n",
       "      <td>0</td>\n",
       "      <td>0.00</td>\n",
       "    </tr>\n",
       "    <tr>\n",
       "      <th>128377</th>\n",
       "      <td>411</td>\n",
       "      <td>Unknown</td>\n",
       "      <td>89266408</td>\n",
       "      <td>2016-07-26 00:00:00</td>\n",
       "      <td>Theater</td>\n",
       "      <td>...</td>\n",
       "      <td>2</td>\n",
       "      <td>189.08</td>\n",
       "      <td>1</td>\n",
       "      <td>0</td>\n",
       "      <td>0.00</td>\n",
       "    </tr>\n",
       "    <tr>\n",
       "      <th>128378</th>\n",
       "      <td>442</td>\n",
       "      <td>Paid Search</td>\n",
       "      <td>88575993</td>\n",
       "      <td>2016-06-26 00:00:00</td>\n",
       "      <td>Theater</td>\n",
       "      <td>...</td>\n",
       "      <td>4</td>\n",
       "      <td>2346.40</td>\n",
       "      <td>1</td>\n",
       "      <td>0</td>\n",
       "      <td>0.00</td>\n",
       "    </tr>\n",
       "    <tr>\n",
       "      <th>128379</th>\n",
       "      <td>446</td>\n",
       "      <td>Unknown</td>\n",
       "      <td>88288693</td>\n",
       "      <td>2016-06-13 00:00:00</td>\n",
       "      <td>Theater</td>\n",
       "      <td>...</td>\n",
       "      <td>1</td>\n",
       "      <td>620.40</td>\n",
       "      <td>1</td>\n",
       "      <td>0</td>\n",
       "      <td>0.00</td>\n",
       "    </tr>\n",
       "    <tr>\n",
       "      <th>128380</th>\n",
       "      <td>460</td>\n",
       "      <td>Unknown</td>\n",
       "      <td>87733548</td>\n",
       "      <td>2016-05-16 00:00:00</td>\n",
       "      <td>Theater</td>\n",
       "      <td>...</td>\n",
       "      <td>2</td>\n",
       "      <td>1118.21</td>\n",
       "      <td>1</td>\n",
       "      <td>0</td>\n",
       "      <td>0.00</td>\n",
       "    </tr>\n",
       "    <tr>\n",
       "      <th>128381</th>\n",
       "      <td>460</td>\n",
       "      <td>Paid Search</td>\n",
       "      <td>86762255</td>\n",
       "      <td>2016-03-28 00:00:00</td>\n",
       "      <td>Theater</td>\n",
       "      <td>...</td>\n",
       "      <td>5</td>\n",
       "      <td>1111.85</td>\n",
       "      <td>1</td>\n",
       "      <td>0</td>\n",
       "      <td>0.00</td>\n",
       "    </tr>\n",
       "    <tr>\n",
       "      <th>128382</th>\n",
       "      <td>462</td>\n",
       "      <td>Paid Search</td>\n",
       "      <td>87630577</td>\n",
       "      <td>2016-05-11 00:00:00</td>\n",
       "      <td>Theater</td>\n",
       "      <td>...</td>\n",
       "      <td>2</td>\n",
       "      <td>706.70</td>\n",
       "      <td>1</td>\n",
       "      <td>0</td>\n",
       "      <td>0.00</td>\n",
       "    </tr>\n",
       "    <tr>\n",
       "      <th>128383</th>\n",
       "      <td>465</td>\n",
       "      <td>Paid Search</td>\n",
       "      <td>87935590</td>\n",
       "      <td>2016-05-27 00:00:00</td>\n",
       "      <td>Theater</td>\n",
       "      <td>...</td>\n",
       "      <td>2</td>\n",
       "      <td>831.00</td>\n",
       "      <td>1</td>\n",
       "      <td>0</td>\n",
       "      <td>0.00</td>\n",
       "    </tr>\n",
       "    <tr>\n",
       "      <th>128384</th>\n",
       "      <td>498</td>\n",
       "      <td>Unknown</td>\n",
       "      <td>87091602</td>\n",
       "      <td>2016-04-15 00:00:00</td>\n",
       "      <td>Theater</td>\n",
       "      <td>...</td>\n",
       "      <td>4</td>\n",
       "      <td>2539.92</td>\n",
       "      <td>1</td>\n",
       "      <td>0</td>\n",
       "      <td>0.00</td>\n",
       "    </tr>\n",
       "    <tr>\n",
       "      <th>128385</th>\n",
       "      <td>546</td>\n",
       "      <td>Unknown</td>\n",
       "      <td>87540446</td>\n",
       "      <td>2016-05-06 00:00:00</td>\n",
       "      <td>Theater</td>\n",
       "      <td>...</td>\n",
       "      <td>2</td>\n",
       "      <td>600.50</td>\n",
       "      <td>1</td>\n",
       "      <td>0</td>\n",
       "      <td>0.00</td>\n",
       "    </tr>\n",
       "  </tbody>\n",
       "</table>\n",
       "<p>128386 rows × 11 columns</p>\n",
       "</div>"
      ],
      "text/plain": [
       "        DTE MARKETINGCHANNELGROUP   USER_ID     FIRST_PRCHS_DATE  \\\n",
       "0         0                   SEO  15561030  2016-07-09 00:00:00   \n",
       "1         0                   SEO  33086170  2016-02-12 00:00:00   \n",
       "2         0                   SEO  80288418  2016-02-21 00:00:00   \n",
       "3         0                   SEO  84239376  2016-04-03 00:00:00   \n",
       "4         0                   SEO  85569001  2016-01-13 00:00:00   \n",
       "5         0                   SEO  85626578  2016-01-17 00:00:00   \n",
       "6         0                   SEO  85813283  2016-01-30 00:00:00   \n",
       "7         0                   SEO  85816143  2016-01-30 00:00:00   \n",
       "8         0                   SEO  85903145  2016-05-20 00:00:00   \n",
       "9         0                   SEO  85940441  2016-02-07 00:00:00   \n",
       "...     ...                   ...       ...                  ...   \n",
       "128376  394           Paid Search  86612794  2016-03-18 00:00:00   \n",
       "128377  411               Unknown  89266408  2016-07-26 00:00:00   \n",
       "128378  442           Paid Search  88575993  2016-06-26 00:00:00   \n",
       "128379  446               Unknown  88288693  2016-06-13 00:00:00   \n",
       "128380  460               Unknown  87733548  2016-05-16 00:00:00   \n",
       "128381  460           Paid Search  86762255  2016-03-28 00:00:00   \n",
       "128382  462           Paid Search  87630577  2016-05-11 00:00:00   \n",
       "128383  465           Paid Search  87935590  2016-05-27 00:00:00   \n",
       "128384  498               Unknown  87091602  2016-04-15 00:00:00   \n",
       "128385  546               Unknown  87540446  2016-05-06 00:00:00   \n",
       "\n",
       "       GENRE_CAT_FINAL   ...   TICKETSSOLDFP    GMSFP  GCFS  M12TICKETSSOLD  \\\n",
       "0              Theater   ...               2   322.30     1               0   \n",
       "1              Theater   ...               1    28.24     1               0   \n",
       "2              Theater   ...               2    97.04     1               2   \n",
       "3              Theater   ...               2   120.64     1               5   \n",
       "4              Theater   ...               2   238.98     1               0   \n",
       "5              Theater   ...               2   414.50     1               0   \n",
       "6              Theater   ...               1   119.49     1               0   \n",
       "7              Theater   ...               2    51.80     1               0   \n",
       "8              Theater   ...               3   159.72     1               0   \n",
       "9              Theater   ...               2    51.80     1               0   \n",
       "...                ...   ...             ...      ...   ...             ...   \n",
       "128376         Theater   ...               2   202.06     1               0   \n",
       "128377         Theater   ...               2   189.08     1               0   \n",
       "128378         Theater   ...               4  2346.40     1               0   \n",
       "128379         Theater   ...               1   620.40     1               0   \n",
       "128380         Theater   ...               2  1118.21     1               0   \n",
       "128381         Theater   ...               5  1111.85     1               0   \n",
       "128382         Theater   ...               2   706.70     1               0   \n",
       "128383         Theater   ...               2   831.00     1               0   \n",
       "128384         Theater   ...               4  2539.92     1               0   \n",
       "128385         Theater   ...               2   600.50     1               0   \n",
       "\n",
       "        M12GMS  \n",
       "0         0.00  \n",
       "1         0.00  \n",
       "2       250.44  \n",
       "3       418.90  \n",
       "4         0.00  \n",
       "5         0.00  \n",
       "6         0.00  \n",
       "7         0.00  \n",
       "8         0.00  \n",
       "9         0.00  \n",
       "...        ...  \n",
       "128376    0.00  \n",
       "128377    0.00  \n",
       "128378    0.00  \n",
       "128379    0.00  \n",
       "128380    0.00  \n",
       "128381    0.00  \n",
       "128382    0.00  \n",
       "128383    0.00  \n",
       "128384    0.00  \n",
       "128385    0.00  \n",
       "\n",
       "[128386 rows x 11 columns]"
      ]
     },
     "execution_count": 9,
     "metadata": {},
     "output_type": "execute_result"
    }
   ],
   "source": [
    "df"
   ]
  },
  {
   "cell_type": "code",
   "execution_count": 10,
   "metadata": {},
   "outputs": [
    {
     "data": {
      "text/plain": [
       "Index([u'DTE', u'MARKETINGCHANNELGROUP', u'USER_ID', u'FIRST_PRCHS_DATE',\n",
       "       u'GENRE_CAT_FINAL', u'ARTISTCATEGORY', u'TICKETSSOLDFP', u'GMSFP',\n",
       "       u'GCFS', u'M12TICKETSSOLD', u'M12GMS'],\n",
       "      dtype='object')"
      ]
     },
     "execution_count": 10,
     "metadata": {},
     "output_type": "execute_result"
    }
   ],
   "source": [
    "\n",
    "df.columns"
   ]
  },
  {
   "cell_type": "code",
   "execution_count": 11,
   "metadata": {},
   "outputs": [
    {
     "data": {
      "text/html": [
       "<div>\n",
       "<style>\n",
       "    .dataframe thead tr:only-child th {\n",
       "        text-align: right;\n",
       "    }\n",
       "\n",
       "    .dataframe thead th {\n",
       "        text-align: left;\n",
       "    }\n",
       "\n",
       "    .dataframe tbody tr th {\n",
       "        vertical-align: top;\n",
       "    }\n",
       "</style>\n",
       "<table border=\"1\" class=\"dataframe\">\n",
       "  <thead>\n",
       "    <tr style=\"text-align: right;\">\n",
       "      <th></th>\n",
       "      <th>MARKETINGCHANNELGROUP</th>\n",
       "    </tr>\n",
       "  </thead>\n",
       "  <tbody>\n",
       "    <tr>\n",
       "      <th>0</th>\n",
       "      <td>SEO</td>\n",
       "    </tr>\n",
       "    <tr>\n",
       "      <th>1</th>\n",
       "      <td>SEO</td>\n",
       "    </tr>\n",
       "    <tr>\n",
       "      <th>2</th>\n",
       "      <td>SEO</td>\n",
       "    </tr>\n",
       "    <tr>\n",
       "      <th>3</th>\n",
       "      <td>SEO</td>\n",
       "    </tr>\n",
       "    <tr>\n",
       "      <th>4</th>\n",
       "      <td>SEO</td>\n",
       "    </tr>\n",
       "    <tr>\n",
       "      <th>5</th>\n",
       "      <td>SEO</td>\n",
       "    </tr>\n",
       "    <tr>\n",
       "      <th>6</th>\n",
       "      <td>SEO</td>\n",
       "    </tr>\n",
       "    <tr>\n",
       "      <th>7</th>\n",
       "      <td>SEO</td>\n",
       "    </tr>\n",
       "    <tr>\n",
       "      <th>8</th>\n",
       "      <td>SEO</td>\n",
       "    </tr>\n",
       "    <tr>\n",
       "      <th>9</th>\n",
       "      <td>SEO</td>\n",
       "    </tr>\n",
       "    <tr>\n",
       "      <th>...</th>\n",
       "      <td>...</td>\n",
       "    </tr>\n",
       "    <tr>\n",
       "      <th>128376</th>\n",
       "      <td>Paid Search</td>\n",
       "    </tr>\n",
       "    <tr>\n",
       "      <th>128377</th>\n",
       "      <td>Unknown</td>\n",
       "    </tr>\n",
       "    <tr>\n",
       "      <th>128378</th>\n",
       "      <td>Paid Search</td>\n",
       "    </tr>\n",
       "    <tr>\n",
       "      <th>128379</th>\n",
       "      <td>Unknown</td>\n",
       "    </tr>\n",
       "    <tr>\n",
       "      <th>128380</th>\n",
       "      <td>Unknown</td>\n",
       "    </tr>\n",
       "    <tr>\n",
       "      <th>128381</th>\n",
       "      <td>Paid Search</td>\n",
       "    </tr>\n",
       "    <tr>\n",
       "      <th>128382</th>\n",
       "      <td>Paid Search</td>\n",
       "    </tr>\n",
       "    <tr>\n",
       "      <th>128383</th>\n",
       "      <td>Paid Search</td>\n",
       "    </tr>\n",
       "    <tr>\n",
       "      <th>128384</th>\n",
       "      <td>Unknown</td>\n",
       "    </tr>\n",
       "    <tr>\n",
       "      <th>128385</th>\n",
       "      <td>Unknown</td>\n",
       "    </tr>\n",
       "  </tbody>\n",
       "</table>\n",
       "<p>128386 rows × 1 columns</p>\n",
       "</div>"
      ],
      "text/plain": [
       "       MARKETINGCHANNELGROUP\n",
       "0                        SEO\n",
       "1                        SEO\n",
       "2                        SEO\n",
       "3                        SEO\n",
       "4                        SEO\n",
       "5                        SEO\n",
       "6                        SEO\n",
       "7                        SEO\n",
       "8                        SEO\n",
       "9                        SEO\n",
       "...                      ...\n",
       "128376           Paid Search\n",
       "128377               Unknown\n",
       "128378           Paid Search\n",
       "128379               Unknown\n",
       "128380               Unknown\n",
       "128381           Paid Search\n",
       "128382           Paid Search\n",
       "128383           Paid Search\n",
       "128384               Unknown\n",
       "128385               Unknown\n",
       "\n",
       "[128386 rows x 1 columns]"
      ]
     },
     "execution_count": 11,
     "metadata": {},
     "output_type": "execute_result"
    }
   ],
   "source": [
    "#subsetting the dataset on marketing channel as a dataframe\n",
    "df[['MARKETINGCHANNELGROUP']]"
   ]
  },
  {
   "cell_type": "code",
   "execution_count": 12,
   "metadata": {},
   "outputs": [
    {
     "data": {
      "text/plain": [
       "0                 SEO\n",
       "1                 SEO\n",
       "2                 SEO\n",
       "3                 SEO\n",
       "4                 SEO\n",
       "5                 SEO\n",
       "6                 SEO\n",
       "7                 SEO\n",
       "8                 SEO\n",
       "9                 SEO\n",
       "             ...     \n",
       "128376    Paid Search\n",
       "128377        Unknown\n",
       "128378    Paid Search\n",
       "128379        Unknown\n",
       "128380        Unknown\n",
       "128381    Paid Search\n",
       "128382    Paid Search\n",
       "128383    Paid Search\n",
       "128384        Unknown\n",
       "128385        Unknown\n",
       "Name: MARKETINGCHANNELGROUP, Length: 128386, dtype: object"
      ]
     },
     "execution_count": 12,
     "metadata": {},
     "output_type": "execute_result"
    }
   ],
   "source": [
    "#subsetting the dataset on marketing channel as a series\n",
    "df['MARKETINGCHANNELGROUP']"
   ]
  },
  {
   "cell_type": "code",
   "execution_count": 13,
   "metadata": {
    "collapsed": true
   },
   "outputs": [],
   "source": [
    "#Replacing the values in the dataframe for cases where the marketing channel is unknown\n",
    "df['MARKETINGCHANNELGROUP'].replace('Unknown', 'Direct',inplace=True)"
   ]
  },
  {
   "cell_type": "code",
   "execution_count": 14,
   "metadata": {},
   "outputs": [
    {
     "data": {
      "text/html": [
       "<div>\n",
       "<style>\n",
       "    .dataframe thead tr:only-child th {\n",
       "        text-align: right;\n",
       "    }\n",
       "\n",
       "    .dataframe thead th {\n",
       "        text-align: left;\n",
       "    }\n",
       "\n",
       "    .dataframe tbody tr th {\n",
       "        vertical-align: top;\n",
       "    }\n",
       "</style>\n",
       "<table border=\"1\" class=\"dataframe\">\n",
       "  <thead>\n",
       "    <tr style=\"text-align: right;\">\n",
       "      <th></th>\n",
       "      <th>MARKETINGCHANNELGROUP</th>\n",
       "    </tr>\n",
       "  </thead>\n",
       "  <tbody>\n",
       "    <tr>\n",
       "      <th>0</th>\n",
       "      <td>SEO</td>\n",
       "    </tr>\n",
       "    <tr>\n",
       "      <th>1</th>\n",
       "      <td>SEO</td>\n",
       "    </tr>\n",
       "    <tr>\n",
       "      <th>2</th>\n",
       "      <td>SEO</td>\n",
       "    </tr>\n",
       "    <tr>\n",
       "      <th>3</th>\n",
       "      <td>SEO</td>\n",
       "    </tr>\n",
       "    <tr>\n",
       "      <th>4</th>\n",
       "      <td>SEO</td>\n",
       "    </tr>\n",
       "    <tr>\n",
       "      <th>5</th>\n",
       "      <td>SEO</td>\n",
       "    </tr>\n",
       "    <tr>\n",
       "      <th>6</th>\n",
       "      <td>SEO</td>\n",
       "    </tr>\n",
       "    <tr>\n",
       "      <th>7</th>\n",
       "      <td>SEO</td>\n",
       "    </tr>\n",
       "    <tr>\n",
       "      <th>8</th>\n",
       "      <td>SEO</td>\n",
       "    </tr>\n",
       "    <tr>\n",
       "      <th>9</th>\n",
       "      <td>SEO</td>\n",
       "    </tr>\n",
       "    <tr>\n",
       "      <th>...</th>\n",
       "      <td>...</td>\n",
       "    </tr>\n",
       "    <tr>\n",
       "      <th>128376</th>\n",
       "      <td>Paid Search</td>\n",
       "    </tr>\n",
       "    <tr>\n",
       "      <th>128377</th>\n",
       "      <td>Direct</td>\n",
       "    </tr>\n",
       "    <tr>\n",
       "      <th>128378</th>\n",
       "      <td>Paid Search</td>\n",
       "    </tr>\n",
       "    <tr>\n",
       "      <th>128379</th>\n",
       "      <td>Direct</td>\n",
       "    </tr>\n",
       "    <tr>\n",
       "      <th>128380</th>\n",
       "      <td>Direct</td>\n",
       "    </tr>\n",
       "    <tr>\n",
       "      <th>128381</th>\n",
       "      <td>Paid Search</td>\n",
       "    </tr>\n",
       "    <tr>\n",
       "      <th>128382</th>\n",
       "      <td>Paid Search</td>\n",
       "    </tr>\n",
       "    <tr>\n",
       "      <th>128383</th>\n",
       "      <td>Paid Search</td>\n",
       "    </tr>\n",
       "    <tr>\n",
       "      <th>128384</th>\n",
       "      <td>Direct</td>\n",
       "    </tr>\n",
       "    <tr>\n",
       "      <th>128385</th>\n",
       "      <td>Direct</td>\n",
       "    </tr>\n",
       "  </tbody>\n",
       "</table>\n",
       "<p>128386 rows × 1 columns</p>\n",
       "</div>"
      ],
      "text/plain": [
       "       MARKETINGCHANNELGROUP\n",
       "0                        SEO\n",
       "1                        SEO\n",
       "2                        SEO\n",
       "3                        SEO\n",
       "4                        SEO\n",
       "5                        SEO\n",
       "6                        SEO\n",
       "7                        SEO\n",
       "8                        SEO\n",
       "9                        SEO\n",
       "...                      ...\n",
       "128376           Paid Search\n",
       "128377                Direct\n",
       "128378           Paid Search\n",
       "128379                Direct\n",
       "128380                Direct\n",
       "128381           Paid Search\n",
       "128382           Paid Search\n",
       "128383           Paid Search\n",
       "128384                Direct\n",
       "128385                Direct\n",
       "\n",
       "[128386 rows x 1 columns]"
      ]
     },
     "execution_count": 14,
     "metadata": {},
     "output_type": "execute_result"
    }
   ],
   "source": [
    "df[['MARKETINGCHANNELGROUP']]"
   ]
  },
  {
   "cell_type": "code",
   "execution_count": 15,
   "metadata": {},
   "outputs": [
    {
     "data": {
      "text/plain": [
       "Index([u'DTE', u'MARKETINGCHANNELGROUP', u'USER_ID', u'FIRST_PRCHS_DATE',\n",
       "       u'GENRE_CAT_FINAL', u'ARTISTCATEGORY', u'TICKETSSOLDFP', u'GMSFP',\n",
       "       u'GCFS', u'M12TICKETSSOLD', u'M12GMS'],\n",
       "      dtype='object')"
      ]
     },
     "execution_count": 15,
     "metadata": {},
     "output_type": "execute_result"
    }
   ],
   "source": [
    "df.columns"
   ]
  },
  {
   "cell_type": "code",
   "execution_count": 16,
   "metadata": {},
   "outputs": [
    {
     "data": {
      "text/plain": [
       "Direct                    60480\n",
       "Paid Search               41445\n",
       "SEO                       25995\n",
       "stubhub.com                 150\n",
       "Contextual                   91\n",
       "Email                        79\n",
       "Push Notifications           51\n",
       "Social                       31\n",
       "Affiliates                   27\n",
       "LGAFL - TDC - Checkout       14\n",
       "Stubhub.com                  11\n",
       "MLBAM                         9\n",
       "Digital Marketing             2\n",
       "eBay                          1\n",
       "Name: MARKETINGCHANNELGROUP, dtype: int64"
      ]
     },
     "execution_count": 16,
     "metadata": {},
     "output_type": "execute_result"
    }
   ],
   "source": [
    "df['MARKETINGCHANNELGROUP'].value_counts()"
   ]
  },
  {
   "cell_type": "code",
   "execution_count": 17,
   "metadata": {
    "collapsed": true
   },
   "outputs": [],
   "source": [
    "#Limiting the dataset to direct, paid search and SEO\n",
    "df2 = df[df['MARKETINGCHANNELGROUP'].isin(['Direct','Paid Search','SEO'])]"
   ]
  },
  {
   "cell_type": "code",
   "execution_count": 18,
   "metadata": {},
   "outputs": [
    {
     "data": {
      "text/plain": [
       "0                 SEO\n",
       "1                 SEO\n",
       "2                 SEO\n",
       "3                 SEO\n",
       "4                 SEO\n",
       "5                 SEO\n",
       "6                 SEO\n",
       "7                 SEO\n",
       "8                 SEO\n",
       "9                 SEO\n",
       "             ...     \n",
       "128376    Paid Search\n",
       "128377         Direct\n",
       "128378    Paid Search\n",
       "128379         Direct\n",
       "128380         Direct\n",
       "128381    Paid Search\n",
       "128382    Paid Search\n",
       "128383    Paid Search\n",
       "128384         Direct\n",
       "128385         Direct\n",
       "Name: MARKETINGCHANNELGROUP, Length: 127920, dtype: object"
      ]
     },
     "execution_count": 18,
     "metadata": {},
     "output_type": "execute_result"
    }
   ],
   "source": [
    "df2.MARKETINGCHANNELGROUP"
   ]
  },
  {
   "cell_type": "code",
   "execution_count": 19,
   "metadata": {},
   "outputs": [
    {
     "data": {
      "text/plain": [
       "(127920, 11)"
      ]
     },
     "execution_count": 19,
     "metadata": {},
     "output_type": "execute_result"
    }
   ],
   "source": [
    "df2.shape"
   ]
  },
  {
   "cell_type": "code",
   "execution_count": 20,
   "metadata": {},
   "outputs": [
    {
     "data": {
      "text/plain": [
       "Direct         60480\n",
       "Paid Search    41445\n",
       "SEO            25995\n",
       "Name: MARKETINGCHANNELGROUP, dtype: int64"
      ]
     },
     "execution_count": 20,
     "metadata": {},
     "output_type": "execute_result"
    }
   ],
   "source": [
    "df2.MARKETINGCHANNELGROUP.value_counts()"
   ]
  },
  {
   "cell_type": "code",
   "execution_count": 21,
   "metadata": {},
   "outputs": [
    {
     "data": {
      "text/html": [
       "<div>\n",
       "<style>\n",
       "    .dataframe thead tr:only-child th {\n",
       "        text-align: right;\n",
       "    }\n",
       "\n",
       "    .dataframe thead th {\n",
       "        text-align: left;\n",
       "    }\n",
       "\n",
       "    .dataframe tbody tr th {\n",
       "        vertical-align: top;\n",
       "    }\n",
       "</style>\n",
       "<table border=\"1\" class=\"dataframe\">\n",
       "  <thead>\n",
       "    <tr style=\"text-align: right;\">\n",
       "      <th></th>\n",
       "      <th>DTE</th>\n",
       "      <th>MARKETINGCHANNELGROUP</th>\n",
       "      <th>USER_ID</th>\n",
       "      <th>FIRST_PRCHS_DATE</th>\n",
       "      <th>GENRE_CAT_FINAL</th>\n",
       "      <th>...</th>\n",
       "      <th>TICKETSSOLDFP</th>\n",
       "      <th>GMSFP</th>\n",
       "      <th>GCFS</th>\n",
       "      <th>M12TICKETSSOLD</th>\n",
       "      <th>M12GMS</th>\n",
       "    </tr>\n",
       "  </thead>\n",
       "  <tbody>\n",
       "    <tr>\n",
       "      <th>0</th>\n",
       "      <td>0</td>\n",
       "      <td>SEO</td>\n",
       "      <td>15561030</td>\n",
       "      <td>2016-07-09 00:00:00</td>\n",
       "      <td>Theater</td>\n",
       "      <td>...</td>\n",
       "      <td>2</td>\n",
       "      <td>322.30</td>\n",
       "      <td>1</td>\n",
       "      <td>0</td>\n",
       "      <td>0.00</td>\n",
       "    </tr>\n",
       "    <tr>\n",
       "      <th>1</th>\n",
       "      <td>0</td>\n",
       "      <td>SEO</td>\n",
       "      <td>33086170</td>\n",
       "      <td>2016-02-12 00:00:00</td>\n",
       "      <td>Theater</td>\n",
       "      <td>...</td>\n",
       "      <td>1</td>\n",
       "      <td>28.24</td>\n",
       "      <td>1</td>\n",
       "      <td>0</td>\n",
       "      <td>0.00</td>\n",
       "    </tr>\n",
       "    <tr>\n",
       "      <th>2</th>\n",
       "      <td>0</td>\n",
       "      <td>SEO</td>\n",
       "      <td>80288418</td>\n",
       "      <td>2016-02-21 00:00:00</td>\n",
       "      <td>Theater</td>\n",
       "      <td>...</td>\n",
       "      <td>2</td>\n",
       "      <td>97.04</td>\n",
       "      <td>1</td>\n",
       "      <td>2</td>\n",
       "      <td>250.44</td>\n",
       "    </tr>\n",
       "    <tr>\n",
       "      <th>3</th>\n",
       "      <td>0</td>\n",
       "      <td>SEO</td>\n",
       "      <td>84239376</td>\n",
       "      <td>2016-04-03 00:00:00</td>\n",
       "      <td>Theater</td>\n",
       "      <td>...</td>\n",
       "      <td>2</td>\n",
       "      <td>120.64</td>\n",
       "      <td>1</td>\n",
       "      <td>5</td>\n",
       "      <td>418.90</td>\n",
       "    </tr>\n",
       "    <tr>\n",
       "      <th>4</th>\n",
       "      <td>0</td>\n",
       "      <td>SEO</td>\n",
       "      <td>85569001</td>\n",
       "      <td>2016-01-13 00:00:00</td>\n",
       "      <td>Theater</td>\n",
       "      <td>...</td>\n",
       "      <td>2</td>\n",
       "      <td>238.98</td>\n",
       "      <td>1</td>\n",
       "      <td>0</td>\n",
       "      <td>0.00</td>\n",
       "    </tr>\n",
       "    <tr>\n",
       "      <th>5</th>\n",
       "      <td>0</td>\n",
       "      <td>SEO</td>\n",
       "      <td>85626578</td>\n",
       "      <td>2016-01-17 00:00:00</td>\n",
       "      <td>Theater</td>\n",
       "      <td>...</td>\n",
       "      <td>2</td>\n",
       "      <td>414.50</td>\n",
       "      <td>1</td>\n",
       "      <td>0</td>\n",
       "      <td>0.00</td>\n",
       "    </tr>\n",
       "    <tr>\n",
       "      <th>6</th>\n",
       "      <td>0</td>\n",
       "      <td>SEO</td>\n",
       "      <td>85813283</td>\n",
       "      <td>2016-01-30 00:00:00</td>\n",
       "      <td>Theater</td>\n",
       "      <td>...</td>\n",
       "      <td>1</td>\n",
       "      <td>119.49</td>\n",
       "      <td>1</td>\n",
       "      <td>0</td>\n",
       "      <td>0.00</td>\n",
       "    </tr>\n",
       "    <tr>\n",
       "      <th>7</th>\n",
       "      <td>0</td>\n",
       "      <td>SEO</td>\n",
       "      <td>85816143</td>\n",
       "      <td>2016-01-30 00:00:00</td>\n",
       "      <td>Theater</td>\n",
       "      <td>...</td>\n",
       "      <td>2</td>\n",
       "      <td>51.80</td>\n",
       "      <td>1</td>\n",
       "      <td>0</td>\n",
       "      <td>0.00</td>\n",
       "    </tr>\n",
       "    <tr>\n",
       "      <th>8</th>\n",
       "      <td>0</td>\n",
       "      <td>SEO</td>\n",
       "      <td>85903145</td>\n",
       "      <td>2016-05-20 00:00:00</td>\n",
       "      <td>Theater</td>\n",
       "      <td>...</td>\n",
       "      <td>3</td>\n",
       "      <td>159.72</td>\n",
       "      <td>1</td>\n",
       "      <td>0</td>\n",
       "      <td>0.00</td>\n",
       "    </tr>\n",
       "    <tr>\n",
       "      <th>9</th>\n",
       "      <td>0</td>\n",
       "      <td>SEO</td>\n",
       "      <td>85940441</td>\n",
       "      <td>2016-02-07 00:00:00</td>\n",
       "      <td>Theater</td>\n",
       "      <td>...</td>\n",
       "      <td>2</td>\n",
       "      <td>51.80</td>\n",
       "      <td>1</td>\n",
       "      <td>0</td>\n",
       "      <td>0.00</td>\n",
       "    </tr>\n",
       "    <tr>\n",
       "      <th>...</th>\n",
       "      <td>...</td>\n",
       "      <td>...</td>\n",
       "      <td>...</td>\n",
       "      <td>...</td>\n",
       "      <td>...</td>\n",
       "      <td>...</td>\n",
       "      <td>...</td>\n",
       "      <td>...</td>\n",
       "      <td>...</td>\n",
       "      <td>...</td>\n",
       "      <td>...</td>\n",
       "    </tr>\n",
       "    <tr>\n",
       "      <th>128376</th>\n",
       "      <td>394</td>\n",
       "      <td>Paid Search</td>\n",
       "      <td>86612794</td>\n",
       "      <td>2016-03-18 00:00:00</td>\n",
       "      <td>Theater</td>\n",
       "      <td>...</td>\n",
       "      <td>2</td>\n",
       "      <td>202.06</td>\n",
       "      <td>1</td>\n",
       "      <td>0</td>\n",
       "      <td>0.00</td>\n",
       "    </tr>\n",
       "    <tr>\n",
       "      <th>128377</th>\n",
       "      <td>411</td>\n",
       "      <td>Direct</td>\n",
       "      <td>89266408</td>\n",
       "      <td>2016-07-26 00:00:00</td>\n",
       "      <td>Theater</td>\n",
       "      <td>...</td>\n",
       "      <td>2</td>\n",
       "      <td>189.08</td>\n",
       "      <td>1</td>\n",
       "      <td>0</td>\n",
       "      <td>0.00</td>\n",
       "    </tr>\n",
       "    <tr>\n",
       "      <th>128378</th>\n",
       "      <td>442</td>\n",
       "      <td>Paid Search</td>\n",
       "      <td>88575993</td>\n",
       "      <td>2016-06-26 00:00:00</td>\n",
       "      <td>Theater</td>\n",
       "      <td>...</td>\n",
       "      <td>4</td>\n",
       "      <td>2346.40</td>\n",
       "      <td>1</td>\n",
       "      <td>0</td>\n",
       "      <td>0.00</td>\n",
       "    </tr>\n",
       "    <tr>\n",
       "      <th>128379</th>\n",
       "      <td>446</td>\n",
       "      <td>Direct</td>\n",
       "      <td>88288693</td>\n",
       "      <td>2016-06-13 00:00:00</td>\n",
       "      <td>Theater</td>\n",
       "      <td>...</td>\n",
       "      <td>1</td>\n",
       "      <td>620.40</td>\n",
       "      <td>1</td>\n",
       "      <td>0</td>\n",
       "      <td>0.00</td>\n",
       "    </tr>\n",
       "    <tr>\n",
       "      <th>128380</th>\n",
       "      <td>460</td>\n",
       "      <td>Direct</td>\n",
       "      <td>87733548</td>\n",
       "      <td>2016-05-16 00:00:00</td>\n",
       "      <td>Theater</td>\n",
       "      <td>...</td>\n",
       "      <td>2</td>\n",
       "      <td>1118.21</td>\n",
       "      <td>1</td>\n",
       "      <td>0</td>\n",
       "      <td>0.00</td>\n",
       "    </tr>\n",
       "    <tr>\n",
       "      <th>128381</th>\n",
       "      <td>460</td>\n",
       "      <td>Paid Search</td>\n",
       "      <td>86762255</td>\n",
       "      <td>2016-03-28 00:00:00</td>\n",
       "      <td>Theater</td>\n",
       "      <td>...</td>\n",
       "      <td>5</td>\n",
       "      <td>1111.85</td>\n",
       "      <td>1</td>\n",
       "      <td>0</td>\n",
       "      <td>0.00</td>\n",
       "    </tr>\n",
       "    <tr>\n",
       "      <th>128382</th>\n",
       "      <td>462</td>\n",
       "      <td>Paid Search</td>\n",
       "      <td>87630577</td>\n",
       "      <td>2016-05-11 00:00:00</td>\n",
       "      <td>Theater</td>\n",
       "      <td>...</td>\n",
       "      <td>2</td>\n",
       "      <td>706.70</td>\n",
       "      <td>1</td>\n",
       "      <td>0</td>\n",
       "      <td>0.00</td>\n",
       "    </tr>\n",
       "    <tr>\n",
       "      <th>128383</th>\n",
       "      <td>465</td>\n",
       "      <td>Paid Search</td>\n",
       "      <td>87935590</td>\n",
       "      <td>2016-05-27 00:00:00</td>\n",
       "      <td>Theater</td>\n",
       "      <td>...</td>\n",
       "      <td>2</td>\n",
       "      <td>831.00</td>\n",
       "      <td>1</td>\n",
       "      <td>0</td>\n",
       "      <td>0.00</td>\n",
       "    </tr>\n",
       "    <tr>\n",
       "      <th>128384</th>\n",
       "      <td>498</td>\n",
       "      <td>Direct</td>\n",
       "      <td>87091602</td>\n",
       "      <td>2016-04-15 00:00:00</td>\n",
       "      <td>Theater</td>\n",
       "      <td>...</td>\n",
       "      <td>4</td>\n",
       "      <td>2539.92</td>\n",
       "      <td>1</td>\n",
       "      <td>0</td>\n",
       "      <td>0.00</td>\n",
       "    </tr>\n",
       "    <tr>\n",
       "      <th>128385</th>\n",
       "      <td>546</td>\n",
       "      <td>Direct</td>\n",
       "      <td>87540446</td>\n",
       "      <td>2016-05-06 00:00:00</td>\n",
       "      <td>Theater</td>\n",
       "      <td>...</td>\n",
       "      <td>2</td>\n",
       "      <td>600.50</td>\n",
       "      <td>1</td>\n",
       "      <td>0</td>\n",
       "      <td>0.00</td>\n",
       "    </tr>\n",
       "  </tbody>\n",
       "</table>\n",
       "<p>127920 rows × 11 columns</p>\n",
       "</div>"
      ],
      "text/plain": [
       "        DTE MARKETINGCHANNELGROUP   USER_ID     FIRST_PRCHS_DATE  \\\n",
       "0         0                   SEO  15561030  2016-07-09 00:00:00   \n",
       "1         0                   SEO  33086170  2016-02-12 00:00:00   \n",
       "2         0                   SEO  80288418  2016-02-21 00:00:00   \n",
       "3         0                   SEO  84239376  2016-04-03 00:00:00   \n",
       "4         0                   SEO  85569001  2016-01-13 00:00:00   \n",
       "5         0                   SEO  85626578  2016-01-17 00:00:00   \n",
       "6         0                   SEO  85813283  2016-01-30 00:00:00   \n",
       "7         0                   SEO  85816143  2016-01-30 00:00:00   \n",
       "8         0                   SEO  85903145  2016-05-20 00:00:00   \n",
       "9         0                   SEO  85940441  2016-02-07 00:00:00   \n",
       "...     ...                   ...       ...                  ...   \n",
       "128376  394           Paid Search  86612794  2016-03-18 00:00:00   \n",
       "128377  411                Direct  89266408  2016-07-26 00:00:00   \n",
       "128378  442           Paid Search  88575993  2016-06-26 00:00:00   \n",
       "128379  446                Direct  88288693  2016-06-13 00:00:00   \n",
       "128380  460                Direct  87733548  2016-05-16 00:00:00   \n",
       "128381  460           Paid Search  86762255  2016-03-28 00:00:00   \n",
       "128382  462           Paid Search  87630577  2016-05-11 00:00:00   \n",
       "128383  465           Paid Search  87935590  2016-05-27 00:00:00   \n",
       "128384  498                Direct  87091602  2016-04-15 00:00:00   \n",
       "128385  546                Direct  87540446  2016-05-06 00:00:00   \n",
       "\n",
       "       GENRE_CAT_FINAL   ...   TICKETSSOLDFP    GMSFP  GCFS  M12TICKETSSOLD  \\\n",
       "0              Theater   ...               2   322.30     1               0   \n",
       "1              Theater   ...               1    28.24     1               0   \n",
       "2              Theater   ...               2    97.04     1               2   \n",
       "3              Theater   ...               2   120.64     1               5   \n",
       "4              Theater   ...               2   238.98     1               0   \n",
       "5              Theater   ...               2   414.50     1               0   \n",
       "6              Theater   ...               1   119.49     1               0   \n",
       "7              Theater   ...               2    51.80     1               0   \n",
       "8              Theater   ...               3   159.72     1               0   \n",
       "9              Theater   ...               2    51.80     1               0   \n",
       "...                ...   ...             ...      ...   ...             ...   \n",
       "128376         Theater   ...               2   202.06     1               0   \n",
       "128377         Theater   ...               2   189.08     1               0   \n",
       "128378         Theater   ...               4  2346.40     1               0   \n",
       "128379         Theater   ...               1   620.40     1               0   \n",
       "128380         Theater   ...               2  1118.21     1               0   \n",
       "128381         Theater   ...               5  1111.85     1               0   \n",
       "128382         Theater   ...               2   706.70     1               0   \n",
       "128383         Theater   ...               2   831.00     1               0   \n",
       "128384         Theater   ...               4  2539.92     1               0   \n",
       "128385         Theater   ...               2   600.50     1               0   \n",
       "\n",
       "        M12GMS  \n",
       "0         0.00  \n",
       "1         0.00  \n",
       "2       250.44  \n",
       "3       418.90  \n",
       "4         0.00  \n",
       "5         0.00  \n",
       "6         0.00  \n",
       "7         0.00  \n",
       "8         0.00  \n",
       "9         0.00  \n",
       "...        ...  \n",
       "128376    0.00  \n",
       "128377    0.00  \n",
       "128378    0.00  \n",
       "128379    0.00  \n",
       "128380    0.00  \n",
       "128381    0.00  \n",
       "128382    0.00  \n",
       "128383    0.00  \n",
       "128384    0.00  \n",
       "128385    0.00  \n",
       "\n",
       "[127920 rows x 11 columns]"
      ]
     },
     "execution_count": 21,
     "metadata": {},
     "output_type": "execute_result"
    }
   ],
   "source": [
    "df2.fillna(0)"
   ]
  },
  {
   "cell_type": "code",
   "execution_count": 22,
   "metadata": {
    "collapsed": true
   },
   "outputs": [],
   "source": [
    "df3= df2[df2.M12TICKETSSOLD>0]"
   ]
  },
  {
   "cell_type": "code",
   "execution_count": 23,
   "metadata": {},
   "outputs": [
    {
     "data": {
      "text/plain": [
       "(15686, 11)"
      ]
     },
     "execution_count": 23,
     "metadata": {},
     "output_type": "execute_result"
    }
   ],
   "source": [
    "df3.shape"
   ]
  },
  {
   "cell_type": "code",
   "execution_count": 24,
   "metadata": {},
   "outputs": [
    {
     "data": {
      "text/plain": [
       "DTE                       0\n",
       "MARKETINGCHANNELGROUP     0\n",
       "USER_ID                   0\n",
       "FIRST_PRCHS_DATE          0\n",
       "GENRE_CAT_FINAL           0\n",
       "ARTISTCATEGORY            0\n",
       "TICKETSSOLDFP             0\n",
       "GMSFP                    72\n",
       "GCFS                      0\n",
       "M12TICKETSSOLD            0\n",
       "M12GMS                    0\n",
       "dtype: int64"
      ]
     },
     "execution_count": 24,
     "metadata": {},
     "output_type": "execute_result"
    }
   ],
   "source": [
    "df3.isnull().sum()"
   ]
  },
  {
   "cell_type": "code",
   "execution_count": 25,
   "metadata": {
    "collapsed": true
   },
   "outputs": [],
   "source": [
    "df3 = df3[df3.GMSFP>0]"
   ]
  },
  {
   "cell_type": "code",
   "execution_count": 26,
   "metadata": {},
   "outputs": [
    {
     "data": {
      "text/plain": [
       "DTE                      0\n",
       "MARKETINGCHANNELGROUP    0\n",
       "USER_ID                  0\n",
       "FIRST_PRCHS_DATE         0\n",
       "GENRE_CAT_FINAL          0\n",
       "ARTISTCATEGORY           0\n",
       "TICKETSSOLDFP            0\n",
       "GMSFP                    0\n",
       "GCFS                     0\n",
       "M12TICKETSSOLD           0\n",
       "M12GMS                   0\n",
       "dtype: int64"
      ]
     },
     "execution_count": 26,
     "metadata": {},
     "output_type": "execute_result"
    }
   ],
   "source": [
    "df3.isnull().sum()"
   ]
  },
  {
   "cell_type": "code",
   "execution_count": 27,
   "metadata": {},
   "outputs": [
    {
     "data": {
      "text/plain": [
       "array([[<matplotlib.axes._subplots.AxesSubplot object at 0x1128daa90>,\n",
       "        <matplotlib.axes._subplots.AxesSubplot object at 0x112db2690>,\n",
       "        <matplotlib.axes._subplots.AxesSubplot object at 0x113a78790>],\n",
       "       [<matplotlib.axes._subplots.AxesSubplot object at 0x1153aa990>,\n",
       "        <matplotlib.axes._subplots.AxesSubplot object at 0x11a129510>,\n",
       "        <matplotlib.axes._subplots.AxesSubplot object at 0x11a1ae8d0>],\n",
       "       [<matplotlib.axes._subplots.AxesSubplot object at 0x112897fd0>,\n",
       "        <matplotlib.axes._subplots.AxesSubplot object at 0x11a2753d0>,\n",
       "        <matplotlib.axes._subplots.AxesSubplot object at 0x11a229710>]], dtype=object)"
      ]
     },
     "execution_count": 27,
     "metadata": {},
     "output_type": "execute_result"
    },
    {
     "data": {
      "image/png": "[encoded data removed]",
      "text/plain": [
       "<matplotlib.figure.Figure at 0x1128da250>"
      ]
     },
     "metadata": {},
     "output_type": "display_data"
    }
   ],
   "source": [
    "df3.hist()"
   ]
  },
  {
   "cell_type": "code",
   "execution_count": 28,
   "metadata": {},
   "outputs": [
    {
     "data": {
      "text/plain": [
       "DTE                        int64\n",
       "MARKETINGCHANNELGROUP     object\n",
       "USER_ID                    int64\n",
       "FIRST_PRCHS_DATE          object\n",
       "GENRE_CAT_FINAL           object\n",
       "ARTISTCATEGORY            object\n",
       "TICKETSSOLDFP              int64\n",
       "GMSFP                    float64\n",
       "GCFS                       int64\n",
       "M12TICKETSSOLD             int64\n",
       "M12GMS                   float64\n",
       "dtype: object"
      ]
     },
     "execution_count": 28,
     "metadata": {},
     "output_type": "execute_result"
    }
   ],
   "source": [
    "df.dtypes"
   ]
  },
  {
   "cell_type": "raw",
   "metadata": {},
   "source": [
    "df[['DTE','TICKETSSOLDFP','GCFS','GMSFP','M12TICKETSSOLD','M12GMS']]=df[['DTE','TICKETSSOLDFP','GCFS','GMSFP','M12TICKETSSOLD','M12GMS']].replace(',','')"
   ]
  },
  {
   "cell_type": "code",
   "execution_count": 29,
   "metadata": {
    "collapsed": true
   },
   "outputs": [],
   "source": [
    "#df['M12TICKETSSOLD']=df['M12TICKETSSOLD'].str.replace(',', '')\n",
    "#df['M12TICKETSSOLD'] = df['M12TICKETSSOLD'].astype(float)\n",
    "#df['M12GMS']=df['M12GMS'].str.replace(',', '')\n",
    "#df['M12GMS'] = df['M12GMS'].astype(float)\n",
    "#df['GMSFP']=df['GMSFP'].str.replace(',', '')\n",
    "#df['GMSFP'] = df['GMSFP'].astype(float)"
   ]
  },
  {
   "cell_type": "code",
   "execution_count": 30,
   "metadata": {},
   "outputs": [
    {
     "data": {
      "text/plain": [
       "DTE                                                                4075652\n",
       "MARKETINGCHANNELGROUP    SEOSEOSEOSEOSEOSEOSEOSEOSEOSEOSEOSEOSEOSEOSEOS...\n",
       "USER_ID                                                     10775941305749\n",
       "FIRST_PRCHS_DATE         2016-07-09 00:00:002016-02-12 00:00:002016-02-...\n",
       "GENRE_CAT_FINAL          TheaterTheaterTheaterTheaterTheaterTheaterThea...\n",
       "ARTISTCATEGORY           4.200-6006.>10005.600-10004.200-6001.TOP 503.1...\n",
       "TICKETSSOLDFP                                                       296000\n",
       "GMSFP                                                           5.8927e+07\n",
       "GCFS                                                                122780\n",
       "M12TICKETSSOLD                                                       54496\n",
       "M12GMS                                                         1.34013e+07\n",
       "dtype: object"
      ]
     },
     "execution_count": 30,
     "metadata": {},
     "output_type": "execute_result"
    }
   ],
   "source": [
    "df.sum()"
   ]
  },
  {
   "cell_type": "code",
   "execution_count": 31,
   "metadata": {},
   "outputs": [
    {
     "data": {
      "text/plain": [
       "array([[<matplotlib.axes._subplots.AxesSubplot object at 0x11a642910>,\n",
       "        <matplotlib.axes._subplots.AxesSubplot object at 0x107d33390>,\n",
       "        <matplotlib.axes._subplots.AxesSubplot object at 0x107db4750>],\n",
       "       [<matplotlib.axes._subplots.AxesSubplot object at 0x107e18f50>,\n",
       "        <matplotlib.axes._subplots.AxesSubplot object at 0x112a170d0>,\n",
       "        <matplotlib.axes._subplots.AxesSubplot object at 0x112a7ba10>],\n",
       "       [<matplotlib.axes._subplots.AxesSubplot object at 0x112bfcd10>,\n",
       "        <matplotlib.axes._subplots.AxesSubplot object at 0x112c707d0>,\n",
       "        <matplotlib.axes._subplots.AxesSubplot object at 0x112cf59d0>]], dtype=object)"
      ]
     },
     "execution_count": 31,
     "metadata": {},
     "output_type": "execute_result"
    },
    {
     "data": {
      "image/png": "[encoded data removed]",
      "text/plain": [
       "<matplotlib.figure.Figure at 0x11a3bce90>"
      ]
     },
     "metadata": {},
     "output_type": "display_data"
    }
   ],
   "source": [
    "df.hist()"
   ]
  },
  {
   "cell_type": "code",
   "execution_count": 32,
   "metadata": {},
   "outputs": [
    {
     "data": {
      "text/plain": [
       "Direct                    60480\n",
       "Paid Search               41445\n",
       "SEO                       25995\n",
       "stubhub.com                 150\n",
       "Contextual                   91\n",
       "Email                        79\n",
       "Push Notifications           51\n",
       "Social                       31\n",
       "Affiliates                   27\n",
       "LGAFL - TDC - Checkout       14\n",
       "Stubhub.com                  11\n",
       "MLBAM                         9\n",
       "Digital Marketing             2\n",
       "eBay                          1\n",
       "Name: MARKETINGCHANNELGROUP, dtype: int64"
      ]
     },
     "execution_count": 32,
     "metadata": {},
     "output_type": "execute_result"
    }
   ],
   "source": [
    "df['MARKETINGCHANNELGROUP'].value_counts()"
   ]
  },
  {
   "cell_type": "code",
   "execution_count": 33,
   "metadata": {
    "collapsed": true
   },
   "outputs": [],
   "source": [
    "df = df[df['MARKETINGCHANNELGROUP'].isin(['Direct','Paid Search','SEO'])]"
   ]
  },
  {
   "cell_type": "code",
   "execution_count": 34,
   "metadata": {
    "collapsed": true
   },
   "outputs": [],
   "source": [
    "#df = df[df.MARKETINGCHANNELGROUP != 'LGAFL - TDC - Checkout']\n",
    "#df = df[df.MARKETINGCHANNELGROUP != 'Contextual']\n",
    "#df = df[df.MARKETINGCHANNELGROUP != 'Push Notifications']\n",
    "#df = df[df.MARKETINGCHANNELGROUP != 'Digital Marketing']\n",
    "#df = df[df.MARKETINGCHANNELGROUP != 'Affiliates']\n",
    "#df = df[df.MARKETINGCHANNELGROUP != 'Stubhub.com']\n",
    "#df = df[df.MARKETINGCHANNELGROUP != 'Social']\n",
    "#df = df[df.MARKETINGCHANNELGROUP != 'stubhub.com']\n",
    "#df = df[df.MARKETINGCHANNELGROUP != 'Email']"
   ]
  },
  {
   "cell_type": "code",
   "execution_count": null,
   "metadata": {},
   "outputs": [],
   "source": [
    "df.shape"
   ]
  },
  {
   "cell_type": "code",
   "execution_count": 36,
   "metadata": {},
   "outputs": [
    {
     "name": "stderr",
     "output_type": "stream",
     "text": [
      "/Users/issingh/anaconda/lib/python2.7/site-packages/ipykernel_launcher.py:4: FutureWarning: 'pandas.tools.plotting.scatter_matrix' is deprecated, import 'pandas.plotting.scatter_matrix' instead.\n",
      "  after removing the cwd from sys.path.\n"
     ]
    },
    {
     "data": {
      "text/plain": [
       "array([[<matplotlib.axes._subplots.AxesSubplot object at 0x113020450>,\n",
       "        <matplotlib.axes._subplots.AxesSubplot object at 0x1163d2790>,\n",
       "        <matplotlib.axes._subplots.AxesSubplot object at 0x1164614d0>,\n",
       "        <matplotlib.axes._subplots.AxesSubplot object at 0x116824150>],\n",
       "       [<matplotlib.axes._subplots.AxesSubplot object at 0x116cc1450>,\n",
       "        <matplotlib.axes._subplots.AxesSubplot object at 0x116d29dd0>,\n",
       "        <matplotlib.axes._subplots.AxesSubplot object at 0x11ac50fd0>,\n",
       "        <matplotlib.axes._subplots.AxesSubplot object at 0x11acc4b50>],\n",
       "       [<matplotlib.axes._subplots.AxesSubplot object at 0x11ad48fd0>,\n",
       "        <matplotlib.axes._subplots.AxesSubplot object at 0x11ad624d0>,\n",
       "        <matplotlib.axes._subplots.AxesSubplot object at 0x11ae40f10>,\n",
       "        <matplotlib.axes._subplots.AxesSubplot object at 0x11aec6e90>],\n",
       "       [<matplotlib.axes._subplots.AxesSubplot object at 0x11af39c90>,\n",
       "        <matplotlib.axes._subplots.AxesSubplot object at 0x11afbed10>,\n",
       "        <matplotlib.axes._subplots.AxesSubplot object at 0x11b0315d0>,\n",
       "        <matplotlib.axes._subplots.AxesSubplot object at 0x11b0b8710>]], dtype=object)"
      ]
     },
     "execution_count": 36,
     "metadata": {},
     "output_type": "execute_result"
    },
    {
     "data": {
      "image/png": "[encoded data removed]",
      "text/plain": [
       "<matplotlib.figure.Figure at 0x112f7e2d0>"
      ]
     },
     "metadata": {},
     "output_type": "display_data"
    }
   ],
   "source": [
    "color = df.MARKETINGCHANNELGROUP.map({'Direct': 'red', 'Paid Search': 'green', 'SEO': 'blue'})\n",
    "pd.tools.plotting.scatter_matrix(\n",
    "    df[ ['DTE', 'GMSFP', 'M12GMS', 'GCFS'] ],\n",
    "    diagonal = 'kde', s = 75, c = color, figsize = (12, 12)\n",
    ")"
   ]
  },
  {
   "cell_type": "code",
   "execution_count": 37,
   "metadata": {},
   "outputs": [
    {
     "name": "stderr",
     "output_type": "stream",
     "text": [
      "/Users/issingh/anaconda/lib/python2.7/site-packages/ipykernel_launcher.py:4: FutureWarning: 'pandas.tools.plotting.scatter_matrix' is deprecated, import 'pandas.plotting.scatter_matrix' instead.\n",
      "  after removing the cwd from sys.path.\n"
     ]
    },
    {
     "data": {
      "text/plain": [
       "array([[<matplotlib.axes._subplots.AxesSubplot object at 0x1166b6250>,\n",
       "        <matplotlib.axes._subplots.AxesSubplot object at 0x11666c590>,\n",
       "        <matplotlib.axes._subplots.AxesSubplot object at 0x1167b75d0>,\n",
       "        <matplotlib.axes._subplots.AxesSubplot object at 0x11b177110>],\n",
       "       [<matplotlib.axes._subplots.AxesSubplot object at 0x11b2434d0>,\n",
       "        <matplotlib.axes._subplots.AxesSubplot object at 0x116e63e90>,\n",
       "        <matplotlib.axes._subplots.AxesSubplot object at 0x11b6b50d0>,\n",
       "        <matplotlib.axes._subplots.AxesSubplot object at 0x11b70dc10>],\n",
       "       [<matplotlib.axes._subplots.AxesSubplot object at 0x11b7ac0d0>,\n",
       "        <matplotlib.axes._subplots.AxesSubplot object at 0x11b7b9590>,\n",
       "        <matplotlib.axes._subplots.AxesSubplot object at 0x11b896fd0>,\n",
       "        <matplotlib.axes._subplots.AxesSubplot object at 0x11b91ef50>],\n",
       "       [<matplotlib.axes._subplots.AxesSubplot object at 0x11b98ed50>,\n",
       "        <matplotlib.axes._subplots.AxesSubplot object at 0x11ba13dd0>,\n",
       "        <matplotlib.axes._subplots.AxesSubplot object at 0x11ba89690>,\n",
       "        <matplotlib.axes._subplots.AxesSubplot object at 0x11bb0d7d0>]], dtype=object)"
      ]
     },
     "execution_count": 37,
     "metadata": {},
     "output_type": "execute_result"
    },
    {
     "data": {
      "image/png": "[encoded data removed]",
      "text/plain": [
       "<matplotlib.figure.Figure at 0x11a38e910>"
      ]
     },
     "metadata": {},
     "output_type": "display_data"
    }
   ],
   "source": [
    "color = df.MARKETINGCHANNELGROUP.map({'Direct': 'red', 'Paid Search': 'green', 'SEO': 'blue'})\n",
    "pd.tools.plotting.scatter_matrix(\n",
    "    df[ ['DTE', 'GMSFP', 'M12GMS', 'GCFS'] ],\n",
    "    diagonal = 'kde', s = 75, c = color, figsize = (12, 12)\n",
    ")"
   ]
  },
  {
   "cell_type": "code",
   "execution_count": 38,
   "metadata": {},
   "outputs": [
    {
     "data": {
      "text/html": [
       "<div>\n",
       "<style>\n",
       "    .dataframe thead tr:only-child th {\n",
       "        text-align: right;\n",
       "    }\n",
       "\n",
       "    .dataframe thead th {\n",
       "        text-align: left;\n",
       "    }\n",
       "\n",
       "    .dataframe tbody tr th {\n",
       "        vertical-align: top;\n",
       "    }\n",
       "</style>\n",
       "<table border=\"1\" class=\"dataframe\">\n",
       "  <thead>\n",
       "    <tr style=\"text-align: right;\">\n",
       "      <th></th>\n",
       "      <th>DTE</th>\n",
       "      <th>USER_ID</th>\n",
       "      <th>TICKETSSOLDFP</th>\n",
       "      <th>GMSFP</th>\n",
       "      <th>GCFS</th>\n",
       "      <th>M12TICKETSSOLD</th>\n",
       "      <th>M12GMS</th>\n",
       "    </tr>\n",
       "  </thead>\n",
       "  <tbody>\n",
       "    <tr>\n",
       "      <th>DTE</th>\n",
       "      <td>1.000000</td>\n",
       "      <td>0.015690</td>\n",
       "      <td>0.057659</td>\n",
       "      <td>0.117824</td>\n",
       "      <td>-0.020738</td>\n",
       "      <td>-0.001146</td>\n",
       "      <td>0.015143</td>\n",
       "    </tr>\n",
       "    <tr>\n",
       "      <th>USER_ID</th>\n",
       "      <td>0.015690</td>\n",
       "      <td>1.000000</td>\n",
       "      <td>-0.011128</td>\n",
       "      <td>-0.008340</td>\n",
       "      <td>0.002749</td>\n",
       "      <td>-0.020270</td>\n",
       "      <td>-0.007797</td>\n",
       "    </tr>\n",
       "    <tr>\n",
       "      <th>TICKETSSOLDFP</th>\n",
       "      <td>0.057659</td>\n",
       "      <td>-0.011128</td>\n",
       "      <td>1.000000</td>\n",
       "      <td>0.224329</td>\n",
       "      <td>0.001756</td>\n",
       "      <td>0.022960</td>\n",
       "      <td>0.016707</td>\n",
       "    </tr>\n",
       "    <tr>\n",
       "      <th>GMSFP</th>\n",
       "      <td>0.117824</td>\n",
       "      <td>-0.008340</td>\n",
       "      <td>0.224329</td>\n",
       "      <td>1.000000</td>\n",
       "      <td>-0.077495</td>\n",
       "      <td>0.078450</td>\n",
       "      <td>0.169484</td>\n",
       "    </tr>\n",
       "    <tr>\n",
       "      <th>GCFS</th>\n",
       "      <td>-0.020738</td>\n",
       "      <td>0.002749</td>\n",
       "      <td>0.001756</td>\n",
       "      <td>-0.077495</td>\n",
       "      <td>1.000000</td>\n",
       "      <td>-0.253192</td>\n",
       "      <td>-0.193561</td>\n",
       "    </tr>\n",
       "    <tr>\n",
       "      <th>M12TICKETSSOLD</th>\n",
       "      <td>-0.001146</td>\n",
       "      <td>-0.020270</td>\n",
       "      <td>0.022960</td>\n",
       "      <td>0.078450</td>\n",
       "      <td>-0.253192</td>\n",
       "      <td>1.000000</td>\n",
       "      <td>0.706634</td>\n",
       "    </tr>\n",
       "    <tr>\n",
       "      <th>M12GMS</th>\n",
       "      <td>0.015143</td>\n",
       "      <td>-0.007797</td>\n",
       "      <td>0.016707</td>\n",
       "      <td>0.169484</td>\n",
       "      <td>-0.193561</td>\n",
       "      <td>0.706634</td>\n",
       "      <td>1.000000</td>\n",
       "    </tr>\n",
       "  </tbody>\n",
       "</table>\n",
       "</div>"
      ],
      "text/plain": [
       "                     DTE   USER_ID  TICKETSSOLDFP     GMSFP      GCFS  \\\n",
       "DTE             1.000000  0.015690       0.057659  0.117824 -0.020738   \n",
       "USER_ID         0.015690  1.000000      -0.011128 -0.008340  0.002749   \n",
       "TICKETSSOLDFP   0.057659 -0.011128       1.000000  0.224329  0.001756   \n",
       "GMSFP           0.117824 -0.008340       0.224329  1.000000 -0.077495   \n",
       "GCFS           -0.020738  0.002749       0.001756 -0.077495  1.000000   \n",
       "M12TICKETSSOLD -0.001146 -0.020270       0.022960  0.078450 -0.253192   \n",
       "M12GMS          0.015143 -0.007797       0.016707  0.169484 -0.193561   \n",
       "\n",
       "                M12TICKETSSOLD    M12GMS  \n",
       "DTE                  -0.001146  0.015143  \n",
       "USER_ID              -0.020270 -0.007797  \n",
       "TICKETSSOLDFP         0.022960  0.016707  \n",
       "GMSFP                 0.078450  0.169484  \n",
       "GCFS                 -0.253192 -0.193561  \n",
       "M12TICKETSSOLD        1.000000  0.706634  \n",
       "M12GMS                0.706634  1.000000  "
      ]
     },
     "execution_count": 38,
     "metadata": {},
     "output_type": "execute_result"
    }
   ],
   "source": [
    "df.corr()"
   ]
  },
  {
   "cell_type": "code",
   "execution_count": 39,
   "metadata": {},
   "outputs": [
    {
     "data": {
      "text/html": [
       "<div>\n",
       "<style>\n",
       "    .dataframe thead tr:only-child th {\n",
       "        text-align: right;\n",
       "    }\n",
       "\n",
       "    .dataframe thead th {\n",
       "        text-align: left;\n",
       "    }\n",
       "\n",
       "    .dataframe tbody tr th {\n",
       "        vertical-align: top;\n",
       "    }\n",
       "</style>\n",
       "<table border=\"1\" class=\"dataframe\">\n",
       "  <thead>\n",
       "    <tr style=\"text-align: right;\">\n",
       "      <th></th>\n",
       "      <th>DTE</th>\n",
       "      <th>USER_ID</th>\n",
       "      <th>TICKETSSOLDFP</th>\n",
       "      <th>GMSFP</th>\n",
       "      <th>GCFS</th>\n",
       "      <th>M12TICKETSSOLD</th>\n",
       "      <th>M12GMS</th>\n",
       "    </tr>\n",
       "  </thead>\n",
       "  <tbody>\n",
       "    <tr>\n",
       "      <th>count</th>\n",
       "      <td>127920.000000</td>\n",
       "      <td>1.279200e+05</td>\n",
       "      <td>127920.000000</td>\n",
       "      <td>127403.000000</td>\n",
       "      <td>127920.000000</td>\n",
       "      <td>127920.000000</td>\n",
       "      <td>127920.000000</td>\n",
       "    </tr>\n",
       "    <tr>\n",
       "      <th>mean</th>\n",
       "      <td>31.739759</td>\n",
       "      <td>8.393769e+07</td>\n",
       "      <td>2.306012</td>\n",
       "      <td>460.318007</td>\n",
       "      <td>0.956301</td>\n",
       "      <td>0.408724</td>\n",
       "      <td>96.285607</td>\n",
       "    </tr>\n",
       "    <tr>\n",
       "      <th>std</th>\n",
       "      <td>46.467700</td>\n",
       "      <td>1.538388e+07</td>\n",
       "      <td>1.036435</td>\n",
       "      <td>686.020897</td>\n",
       "      <td>0.204426</td>\n",
       "      <td>1.802345</td>\n",
       "      <td>837.934983</td>\n",
       "    </tr>\n",
       "    <tr>\n",
       "      <th>min</th>\n",
       "      <td>0.000000</td>\n",
       "      <td>1.887450e+05</td>\n",
       "      <td>1.000000</td>\n",
       "      <td>4.820000</td>\n",
       "      <td>0.000000</td>\n",
       "      <td>0.000000</td>\n",
       "      <td>0.000000</td>\n",
       "    </tr>\n",
       "    <tr>\n",
       "      <th>25%</th>\n",
       "      <td>3.000000</td>\n",
       "      <td>8.599040e+07</td>\n",
       "      <td>2.000000</td>\n",
       "      <td>173.340000</td>\n",
       "      <td>1.000000</td>\n",
       "      <td>0.000000</td>\n",
       "      <td>0.000000</td>\n",
       "    </tr>\n",
       "    <tr>\n",
       "      <th>50%</th>\n",
       "      <td>12.000000</td>\n",
       "      <td>8.732198e+07</td>\n",
       "      <td>2.000000</td>\n",
       "      <td>273.900000</td>\n",
       "      <td>1.000000</td>\n",
       "      <td>0.000000</td>\n",
       "      <td>0.000000</td>\n",
       "    </tr>\n",
       "    <tr>\n",
       "      <th>75%</th>\n",
       "      <td>41.000000</td>\n",
       "      <td>8.913157e+07</td>\n",
       "      <td>2.000000</td>\n",
       "      <td>454.600000</td>\n",
       "      <td>1.000000</td>\n",
       "      <td>0.000000</td>\n",
       "      <td>0.000000</td>\n",
       "    </tr>\n",
       "    <tr>\n",
       "      <th>max</th>\n",
       "      <td>546.000000</td>\n",
       "      <td>9.097049e+07</td>\n",
       "      <td>17.000000</td>\n",
       "      <td>24616.920000</td>\n",
       "      <td>1.000000</td>\n",
       "      <td>142.000000</td>\n",
       "      <td>87057.490000</td>\n",
       "    </tr>\n",
       "  </tbody>\n",
       "</table>\n",
       "</div>"
      ],
      "text/plain": [
       "                 DTE       USER_ID  TICKETSSOLDFP          GMSFP  \\\n",
       "count  127920.000000  1.279200e+05  127920.000000  127403.000000   \n",
       "mean       31.739759  8.393769e+07       2.306012     460.318007   \n",
       "std        46.467700  1.538388e+07       1.036435     686.020897   \n",
       "min         0.000000  1.887450e+05       1.000000       4.820000   \n",
       "25%         3.000000  8.599040e+07       2.000000     173.340000   \n",
       "50%        12.000000  8.732198e+07       2.000000     273.900000   \n",
       "75%        41.000000  8.913157e+07       2.000000     454.600000   \n",
       "max       546.000000  9.097049e+07      17.000000   24616.920000   \n",
       "\n",
       "                GCFS  M12TICKETSSOLD         M12GMS  \n",
       "count  127920.000000   127920.000000  127920.000000  \n",
       "mean        0.956301        0.408724      96.285607  \n",
       "std         0.204426        1.802345     837.934983  \n",
       "min         0.000000        0.000000       0.000000  \n",
       "25%         1.000000        0.000000       0.000000  \n",
       "50%         1.000000        0.000000       0.000000  \n",
       "75%         1.000000        0.000000       0.000000  \n",
       "max         1.000000      142.000000   87057.490000  "
      ]
     },
     "execution_count": 39,
     "metadata": {},
     "output_type": "execute_result"
    }
   ],
   "source": [
    "df.describe()"
   ]
  },
  {
   "cell_type": "code",
   "execution_count": 40,
   "metadata": {
    "collapsed": true
   },
   "outputs": [],
   "source": [
    "#Adding the decision trees section here"
   ]
  },
  {
   "cell_type": "code",
   "execution_count": 41,
   "metadata": {},
   "outputs": [
    {
     "name": "stderr",
     "output_type": "stream",
     "text": [
      "/Users/issingh/anaconda/lib/python2.7/site-packages/ipykernel_launcher.py:1: SettingWithCopyWarning: \n",
      "A value is trying to be set on a copy of a slice from a DataFrame.\n",
      "Try using .loc[row_indexer,col_indexer] = value instead\n",
      "\n",
      "See the caveats in the documentation: http://pandas.pydata.org/pandas-docs/stable/indexing.html#indexing-view-versus-copy\n",
      "  \"\"\"Entry point for launching an IPython kernel.\n"
     ]
    }
   ],
   "source": [
    "df['RepeatPurchase'] = (df.M12TICKETSSOLD >0)*1"
   ]
  },
  {
   "cell_type": "code",
   "execution_count": 42,
   "metadata": {},
   "outputs": [
    {
     "data": {
      "text/html": [
       "<div>\n",
       "<style>\n",
       "    .dataframe thead tr:only-child th {\n",
       "        text-align: right;\n",
       "    }\n",
       "\n",
       "    .dataframe thead th {\n",
       "        text-align: left;\n",
       "    }\n",
       "\n",
       "    .dataframe tbody tr th {\n",
       "        vertical-align: top;\n",
       "    }\n",
       "</style>\n",
       "<table border=\"1\" class=\"dataframe\">\n",
       "  <thead>\n",
       "    <tr style=\"text-align: right;\">\n",
       "      <th></th>\n",
       "      <th>DTE</th>\n",
       "      <th>MARKETINGCHANNELGROUP</th>\n",
       "      <th>USER_ID</th>\n",
       "      <th>FIRST_PRCHS_DATE</th>\n",
       "      <th>GENRE_CAT_FINAL</th>\n",
       "      <th>...</th>\n",
       "      <th>GMSFP</th>\n",
       "      <th>GCFS</th>\n",
       "      <th>M12TICKETSSOLD</th>\n",
       "      <th>M12GMS</th>\n",
       "      <th>RepeatPurchase</th>\n",
       "    </tr>\n",
       "  </thead>\n",
       "  <tbody>\n",
       "    <tr>\n",
       "      <th>0</th>\n",
       "      <td>0</td>\n",
       "      <td>SEO</td>\n",
       "      <td>15561030</td>\n",
       "      <td>2016-07-09 00:00:00</td>\n",
       "      <td>Theater</td>\n",
       "      <td>...</td>\n",
       "      <td>322.30</td>\n",
       "      <td>1</td>\n",
       "      <td>0</td>\n",
       "      <td>0.00</td>\n",
       "      <td>0</td>\n",
       "    </tr>\n",
       "    <tr>\n",
       "      <th>1</th>\n",
       "      <td>0</td>\n",
       "      <td>SEO</td>\n",
       "      <td>33086170</td>\n",
       "      <td>2016-02-12 00:00:00</td>\n",
       "      <td>Theater</td>\n",
       "      <td>...</td>\n",
       "      <td>28.24</td>\n",
       "      <td>1</td>\n",
       "      <td>0</td>\n",
       "      <td>0.00</td>\n",
       "      <td>0</td>\n",
       "    </tr>\n",
       "    <tr>\n",
       "      <th>2</th>\n",
       "      <td>0</td>\n",
       "      <td>SEO</td>\n",
       "      <td>80288418</td>\n",
       "      <td>2016-02-21 00:00:00</td>\n",
       "      <td>Theater</td>\n",
       "      <td>...</td>\n",
       "      <td>97.04</td>\n",
       "      <td>1</td>\n",
       "      <td>2</td>\n",
       "      <td>250.44</td>\n",
       "      <td>1</td>\n",
       "    </tr>\n",
       "    <tr>\n",
       "      <th>3</th>\n",
       "      <td>0</td>\n",
       "      <td>SEO</td>\n",
       "      <td>84239376</td>\n",
       "      <td>2016-04-03 00:00:00</td>\n",
       "      <td>Theater</td>\n",
       "      <td>...</td>\n",
       "      <td>120.64</td>\n",
       "      <td>1</td>\n",
       "      <td>5</td>\n",
       "      <td>418.90</td>\n",
       "      <td>1</td>\n",
       "    </tr>\n",
       "    <tr>\n",
       "      <th>4</th>\n",
       "      <td>0</td>\n",
       "      <td>SEO</td>\n",
       "      <td>85569001</td>\n",
       "      <td>2016-01-13 00:00:00</td>\n",
       "      <td>Theater</td>\n",
       "      <td>...</td>\n",
       "      <td>238.98</td>\n",
       "      <td>1</td>\n",
       "      <td>0</td>\n",
       "      <td>0.00</td>\n",
       "      <td>0</td>\n",
       "    </tr>\n",
       "    <tr>\n",
       "      <th>5</th>\n",
       "      <td>0</td>\n",
       "      <td>SEO</td>\n",
       "      <td>85626578</td>\n",
       "      <td>2016-01-17 00:00:00</td>\n",
       "      <td>Theater</td>\n",
       "      <td>...</td>\n",
       "      <td>414.50</td>\n",
       "      <td>1</td>\n",
       "      <td>0</td>\n",
       "      <td>0.00</td>\n",
       "      <td>0</td>\n",
       "    </tr>\n",
       "    <tr>\n",
       "      <th>6</th>\n",
       "      <td>0</td>\n",
       "      <td>SEO</td>\n",
       "      <td>85813283</td>\n",
       "      <td>2016-01-30 00:00:00</td>\n",
       "      <td>Theater</td>\n",
       "      <td>...</td>\n",
       "      <td>119.49</td>\n",
       "      <td>1</td>\n",
       "      <td>0</td>\n",
       "      <td>0.00</td>\n",
       "      <td>0</td>\n",
       "    </tr>\n",
       "    <tr>\n",
       "      <th>7</th>\n",
       "      <td>0</td>\n",
       "      <td>SEO</td>\n",
       "      <td>85816143</td>\n",
       "      <td>2016-01-30 00:00:00</td>\n",
       "      <td>Theater</td>\n",
       "      <td>...</td>\n",
       "      <td>51.80</td>\n",
       "      <td>1</td>\n",
       "      <td>0</td>\n",
       "      <td>0.00</td>\n",
       "      <td>0</td>\n",
       "    </tr>\n",
       "    <tr>\n",
       "      <th>8</th>\n",
       "      <td>0</td>\n",
       "      <td>SEO</td>\n",
       "      <td>85903145</td>\n",
       "      <td>2016-05-20 00:00:00</td>\n",
       "      <td>Theater</td>\n",
       "      <td>...</td>\n",
       "      <td>159.72</td>\n",
       "      <td>1</td>\n",
       "      <td>0</td>\n",
       "      <td>0.00</td>\n",
       "      <td>0</td>\n",
       "    </tr>\n",
       "    <tr>\n",
       "      <th>9</th>\n",
       "      <td>0</td>\n",
       "      <td>SEO</td>\n",
       "      <td>85940441</td>\n",
       "      <td>2016-02-07 00:00:00</td>\n",
       "      <td>Theater</td>\n",
       "      <td>...</td>\n",
       "      <td>51.80</td>\n",
       "      <td>1</td>\n",
       "      <td>0</td>\n",
       "      <td>0.00</td>\n",
       "      <td>0</td>\n",
       "    </tr>\n",
       "    <tr>\n",
       "      <th>...</th>\n",
       "      <td>...</td>\n",
       "      <td>...</td>\n",
       "      <td>...</td>\n",
       "      <td>...</td>\n",
       "      <td>...</td>\n",
       "      <td>...</td>\n",
       "      <td>...</td>\n",
       "      <td>...</td>\n",
       "      <td>...</td>\n",
       "      <td>...</td>\n",
       "      <td>...</td>\n",
       "    </tr>\n",
       "    <tr>\n",
       "      <th>128376</th>\n",
       "      <td>394</td>\n",
       "      <td>Paid Search</td>\n",
       "      <td>86612794</td>\n",
       "      <td>2016-03-18 00:00:00</td>\n",
       "      <td>Theater</td>\n",
       "      <td>...</td>\n",
       "      <td>202.06</td>\n",
       "      <td>1</td>\n",
       "      <td>0</td>\n",
       "      <td>0.00</td>\n",
       "      <td>0</td>\n",
       "    </tr>\n",
       "    <tr>\n",
       "      <th>128377</th>\n",
       "      <td>411</td>\n",
       "      <td>Direct</td>\n",
       "      <td>89266408</td>\n",
       "      <td>2016-07-26 00:00:00</td>\n",
       "      <td>Theater</td>\n",
       "      <td>...</td>\n",
       "      <td>189.08</td>\n",
       "      <td>1</td>\n",
       "      <td>0</td>\n",
       "      <td>0.00</td>\n",
       "      <td>0</td>\n",
       "    </tr>\n",
       "    <tr>\n",
       "      <th>128378</th>\n",
       "      <td>442</td>\n",
       "      <td>Paid Search</td>\n",
       "      <td>88575993</td>\n",
       "      <td>2016-06-26 00:00:00</td>\n",
       "      <td>Theater</td>\n",
       "      <td>...</td>\n",
       "      <td>2346.40</td>\n",
       "      <td>1</td>\n",
       "      <td>0</td>\n",
       "      <td>0.00</td>\n",
       "      <td>0</td>\n",
       "    </tr>\n",
       "    <tr>\n",
       "      <th>128379</th>\n",
       "      <td>446</td>\n",
       "      <td>Direct</td>\n",
       "      <td>88288693</td>\n",
       "      <td>2016-06-13 00:00:00</td>\n",
       "      <td>Theater</td>\n",
       "      <td>...</td>\n",
       "      <td>620.40</td>\n",
       "      <td>1</td>\n",
       "      <td>0</td>\n",
       "      <td>0.00</td>\n",
       "      <td>0</td>\n",
       "    </tr>\n",
       "    <tr>\n",
       "      <th>128380</th>\n",
       "      <td>460</td>\n",
       "      <td>Direct</td>\n",
       "      <td>87733548</td>\n",
       "      <td>2016-05-16 00:00:00</td>\n",
       "      <td>Theater</td>\n",
       "      <td>...</td>\n",
       "      <td>1118.21</td>\n",
       "      <td>1</td>\n",
       "      <td>0</td>\n",
       "      <td>0.00</td>\n",
       "      <td>0</td>\n",
       "    </tr>\n",
       "    <tr>\n",
       "      <th>128381</th>\n",
       "      <td>460</td>\n",
       "      <td>Paid Search</td>\n",
       "      <td>86762255</td>\n",
       "      <td>2016-03-28 00:00:00</td>\n",
       "      <td>Theater</td>\n",
       "      <td>...</td>\n",
       "      <td>1111.85</td>\n",
       "      <td>1</td>\n",
       "      <td>0</td>\n",
       "      <td>0.00</td>\n",
       "      <td>0</td>\n",
       "    </tr>\n",
       "    <tr>\n",
       "      <th>128382</th>\n",
       "      <td>462</td>\n",
       "      <td>Paid Search</td>\n",
       "      <td>87630577</td>\n",
       "      <td>2016-05-11 00:00:00</td>\n",
       "      <td>Theater</td>\n",
       "      <td>...</td>\n",
       "      <td>706.70</td>\n",
       "      <td>1</td>\n",
       "      <td>0</td>\n",
       "      <td>0.00</td>\n",
       "      <td>0</td>\n",
       "    </tr>\n",
       "    <tr>\n",
       "      <th>128383</th>\n",
       "      <td>465</td>\n",
       "      <td>Paid Search</td>\n",
       "      <td>87935590</td>\n",
       "      <td>2016-05-27 00:00:00</td>\n",
       "      <td>Theater</td>\n",
       "      <td>...</td>\n",
       "      <td>831.00</td>\n",
       "      <td>1</td>\n",
       "      <td>0</td>\n",
       "      <td>0.00</td>\n",
       "      <td>0</td>\n",
       "    </tr>\n",
       "    <tr>\n",
       "      <th>128384</th>\n",
       "      <td>498</td>\n",
       "      <td>Direct</td>\n",
       "      <td>87091602</td>\n",
       "      <td>2016-04-15 00:00:00</td>\n",
       "      <td>Theater</td>\n",
       "      <td>...</td>\n",
       "      <td>2539.92</td>\n",
       "      <td>1</td>\n",
       "      <td>0</td>\n",
       "      <td>0.00</td>\n",
       "      <td>0</td>\n",
       "    </tr>\n",
       "    <tr>\n",
       "      <th>128385</th>\n",
       "      <td>546</td>\n",
       "      <td>Direct</td>\n",
       "      <td>87540446</td>\n",
       "      <td>2016-05-06 00:00:00</td>\n",
       "      <td>Theater</td>\n",
       "      <td>...</td>\n",
       "      <td>600.50</td>\n",
       "      <td>1</td>\n",
       "      <td>0</td>\n",
       "      <td>0.00</td>\n",
       "      <td>0</td>\n",
       "    </tr>\n",
       "  </tbody>\n",
       "</table>\n",
       "<p>127920 rows × 12 columns</p>\n",
       "</div>"
      ],
      "text/plain": [
       "        DTE MARKETINGCHANNELGROUP   USER_ID     FIRST_PRCHS_DATE  \\\n",
       "0         0                   SEO  15561030  2016-07-09 00:00:00   \n",
       "1         0                   SEO  33086170  2016-02-12 00:00:00   \n",
       "2         0                   SEO  80288418  2016-02-21 00:00:00   \n",
       "3         0                   SEO  84239376  2016-04-03 00:00:00   \n",
       "4         0                   SEO  85569001  2016-01-13 00:00:00   \n",
       "5         0                   SEO  85626578  2016-01-17 00:00:00   \n",
       "6         0                   SEO  85813283  2016-01-30 00:00:00   \n",
       "7         0                   SEO  85816143  2016-01-30 00:00:00   \n",
       "8         0                   SEO  85903145  2016-05-20 00:00:00   \n",
       "9         0                   SEO  85940441  2016-02-07 00:00:00   \n",
       "...     ...                   ...       ...                  ...   \n",
       "128376  394           Paid Search  86612794  2016-03-18 00:00:00   \n",
       "128377  411                Direct  89266408  2016-07-26 00:00:00   \n",
       "128378  442           Paid Search  88575993  2016-06-26 00:00:00   \n",
       "128379  446                Direct  88288693  2016-06-13 00:00:00   \n",
       "128380  460                Direct  87733548  2016-05-16 00:00:00   \n",
       "128381  460           Paid Search  86762255  2016-03-28 00:00:00   \n",
       "128382  462           Paid Search  87630577  2016-05-11 00:00:00   \n",
       "128383  465           Paid Search  87935590  2016-05-27 00:00:00   \n",
       "128384  498                Direct  87091602  2016-04-15 00:00:00   \n",
       "128385  546                Direct  87540446  2016-05-06 00:00:00   \n",
       "\n",
       "       GENRE_CAT_FINAL       ...          GMSFP  GCFS  M12TICKETSSOLD  M12GMS  \\\n",
       "0              Theater       ...         322.30     1               0    0.00   \n",
       "1              Theater       ...          28.24     1               0    0.00   \n",
       "2              Theater       ...          97.04     1               2  250.44   \n",
       "3              Theater       ...         120.64     1               5  418.90   \n",
       "4              Theater       ...         238.98     1               0    0.00   \n",
       "5              Theater       ...         414.50     1               0    0.00   \n",
       "6              Theater       ...         119.49     1               0    0.00   \n",
       "7              Theater       ...          51.80     1               0    0.00   \n",
       "8              Theater       ...         159.72     1               0    0.00   \n",
       "9              Theater       ...          51.80     1               0    0.00   \n",
       "...                ...       ...            ...   ...             ...     ...   \n",
       "128376         Theater       ...         202.06     1               0    0.00   \n",
       "128377         Theater       ...         189.08     1               0    0.00   \n",
       "128378         Theater       ...        2346.40     1               0    0.00   \n",
       "128379         Theater       ...         620.40     1               0    0.00   \n",
       "128380         Theater       ...        1118.21     1               0    0.00   \n",
       "128381         Theater       ...        1111.85     1               0    0.00   \n",
       "128382         Theater       ...         706.70     1               0    0.00   \n",
       "128383         Theater       ...         831.00     1               0    0.00   \n",
       "128384         Theater       ...        2539.92     1               0    0.00   \n",
       "128385         Theater       ...         600.50     1               0    0.00   \n",
       "\n",
       "        RepeatPurchase  \n",
       "0                    0  \n",
       "1                    0  \n",
       "2                    1  \n",
       "3                    1  \n",
       "4                    0  \n",
       "5                    0  \n",
       "6                    0  \n",
       "7                    0  \n",
       "8                    0  \n",
       "9                    0  \n",
       "...                ...  \n",
       "128376               0  \n",
       "128377               0  \n",
       "128378               0  \n",
       "128379               0  \n",
       "128380               0  \n",
       "128381               0  \n",
       "128382               0  \n",
       "128383               0  \n",
       "128384               0  \n",
       "128385               0  \n",
       "\n",
       "[127920 rows x 12 columns]"
      ]
     },
     "execution_count": 42,
     "metadata": {},
     "output_type": "execute_result"
    }
   ],
   "source": [
    "df"
   ]
  },
  {
   "cell_type": "code",
   "execution_count": 43,
   "metadata": {
    "collapsed": true
   },
   "outputs": [],
   "source": [
    "df2 = df.drop('USER_ID',1)\n",
    "df2 = df2.drop('M12GMS',1)\n",
    "df2 = df2.drop('M12TICKETSSOLD',1)\n",
    "df2 = df2.drop('FIRST_PRCHS_DATE',1)\n",
    "df2 = df2.drop('GCFS',1)\n",
    "df2 = df2.drop('GENRE_CAT_FINAL',1)\n",
    "df2 = df2.drop('TICKETSSOLDFP',1)"
   ]
  },
  {
   "cell_type": "code",
   "execution_count": 44,
   "metadata": {},
   "outputs": [
    {
     "data": {
      "text/plain": [
       "Index([u'DTE', u'MARKETINGCHANNELGROUP', u'ARTISTCATEGORY', u'GMSFP',\n",
       "       u'RepeatPurchase'],\n",
       "      dtype='object')"
      ]
     },
     "execution_count": 44,
     "metadata": {},
     "output_type": "execute_result"
    }
   ],
   "source": [
    "df2.columns"
   ]
  },
  {
   "cell_type": "code",
   "execution_count": 45,
   "metadata": {},
   "outputs": [
    {
     "data": {
      "text/plain": [
       "4"
      ]
     },
     "execution_count": 45,
     "metadata": {},
     "output_type": "execute_result"
    }
   ],
   "source": [
    "y_train = df2.RepeatPurchase\n",
    "X_train = df2.drop('RepeatPurchase',1)\n",
    "len(X_train.columns)"
   ]
  },
  {
   "cell_type": "code",
   "execution_count": 46,
   "metadata": {},
   "outputs": [
    {
     "data": {
      "text/plain": [
       "Index([u'DTE', u'MARKETINGCHANNELGROUP', u'ARTISTCATEGORY', u'GMSFP'], dtype='object')"
      ]
     },
     "execution_count": 46,
     "metadata": {},
     "output_type": "execute_result"
    }
   ],
   "source": [
    "X_train.columns"
   ]
  },
  {
   "cell_type": "code",
   "execution_count": 47,
   "metadata": {},
   "outputs": [
    {
     "ename": "ValueError",
     "evalue": "invalid literal for float(): 6.>1000",
     "output_type": "error",
     "traceback": [
      "\u001b[0;31m---------------------------------------------------------------------------\u001b[0m",
      "\u001b[0;31mValueError\u001b[0m                                Traceback (most recent call last)",
      "\u001b[0;32m<ipython-input-47-b917dcef0e21>\u001b[0m in \u001b[0;36m<module>\u001b[0;34m()\u001b[0m\n\u001b[1;32m     10\u001b[0m \u001b[0mencoded\u001b[0m \u001b[0;34m=\u001b[0m \u001b[0mlab_enc\u001b[0m\u001b[0;34m.\u001b[0m\u001b[0mfit_transform\u001b[0m\u001b[0;34m(\u001b[0m\u001b[0my_train\u001b[0m\u001b[0;34m)\u001b[0m\u001b[0;34m\u001b[0m\u001b[0m\n\u001b[1;32m     11\u001b[0m \u001b[0mregressor\u001b[0m \u001b[0;34m=\u001b[0m \u001b[0mDecisionTreeRegressor\u001b[0m\u001b[0;34m(\u001b[0m\u001b[0mmax_depth\u001b[0m\u001b[0;34m=\u001b[0m\u001b[0;36m3\u001b[0m\u001b[0;34m)\u001b[0m\u001b[0;34m\u001b[0m\u001b[0m\n\u001b[0;32m---> 12\u001b[0;31m \u001b[0mregressor\u001b[0m\u001b[0;34m.\u001b[0m\u001b[0mfit\u001b[0m\u001b[0;34m(\u001b[0m\u001b[0mX_train\u001b[0m\u001b[0;34m,\u001b[0m \u001b[0my_train\u001b[0m\u001b[0;34m)\u001b[0m\u001b[0;34m\u001b[0m\u001b[0m\n\u001b[0m\u001b[1;32m     13\u001b[0m \u001b[0;34m\u001b[0m\u001b[0m\n\u001b[1;32m     14\u001b[0m \u001b[0;34m\u001b[0m\u001b[0m\n",
      "\u001b[0;32m/Users/issingh/anaconda/lib/python2.7/site-packages/sklearn/tree/tree.pyc\u001b[0m in \u001b[0;36mfit\u001b[0;34m(self, X, y, sample_weight, check_input, X_idx_sorted)\u001b[0m\n\u001b[1;32m   1027\u001b[0m             \u001b[0msample_weight\u001b[0m\u001b[0;34m=\u001b[0m\u001b[0msample_weight\u001b[0m\u001b[0;34m,\u001b[0m\u001b[0;34m\u001b[0m\u001b[0m\n\u001b[1;32m   1028\u001b[0m             \u001b[0mcheck_input\u001b[0m\u001b[0;34m=\u001b[0m\u001b[0mcheck_input\u001b[0m\u001b[0;34m,\u001b[0m\u001b[0;34m\u001b[0m\u001b[0m\n\u001b[0;32m-> 1029\u001b[0;31m             X_idx_sorted=X_idx_sorted)\n\u001b[0m\u001b[1;32m   1030\u001b[0m         \u001b[0;32mreturn\u001b[0m \u001b[0mself\u001b[0m\u001b[0;34m\u001b[0m\u001b[0m\n\u001b[1;32m   1031\u001b[0m \u001b[0;34m\u001b[0m\u001b[0m\n",
      "\u001b[0;32m/Users/issingh/anaconda/lib/python2.7/site-packages/sklearn/tree/tree.pyc\u001b[0m in \u001b[0;36mfit\u001b[0;34m(self, X, y, sample_weight, check_input, X_idx_sorted)\u001b[0m\n\u001b[1;32m    120\u001b[0m         \u001b[0mrandom_state\u001b[0m \u001b[0;34m=\u001b[0m \u001b[0mcheck_random_state\u001b[0m\u001b[0;34m(\u001b[0m\u001b[0mself\u001b[0m\u001b[0;34m.\u001b[0m\u001b[0mrandom_state\u001b[0m\u001b[0;34m)\u001b[0m\u001b[0;34m\u001b[0m\u001b[0m\n\u001b[1;32m    121\u001b[0m         \u001b[0;32mif\u001b[0m \u001b[0mcheck_input\u001b[0m\u001b[0;34m:\u001b[0m\u001b[0;34m\u001b[0m\u001b[0m\n\u001b[0;32m--> 122\u001b[0;31m             \u001b[0mX\u001b[0m \u001b[0;34m=\u001b[0m \u001b[0mcheck_array\u001b[0m\u001b[0;34m(\u001b[0m\u001b[0mX\u001b[0m\u001b[0;34m,\u001b[0m \u001b[0mdtype\u001b[0m\u001b[0;34m=\u001b[0m\u001b[0mDTYPE\u001b[0m\u001b[0;34m,\u001b[0m \u001b[0maccept_sparse\u001b[0m\u001b[0;34m=\u001b[0m\u001b[0;34m\"csc\"\u001b[0m\u001b[0;34m)\u001b[0m\u001b[0;34m\u001b[0m\u001b[0m\n\u001b[0m\u001b[1;32m    123\u001b[0m             \u001b[0my\u001b[0m \u001b[0;34m=\u001b[0m \u001b[0mcheck_array\u001b[0m\u001b[0;34m(\u001b[0m\u001b[0my\u001b[0m\u001b[0;34m,\u001b[0m \u001b[0mensure_2d\u001b[0m\u001b[0;34m=\u001b[0m\u001b[0mFalse\u001b[0m\u001b[0;34m,\u001b[0m \u001b[0mdtype\u001b[0m\u001b[0;34m=\u001b[0m\u001b[0mNone\u001b[0m\u001b[0;34m)\u001b[0m\u001b[0;34m\u001b[0m\u001b[0m\n\u001b[1;32m    124\u001b[0m             \u001b[0;32mif\u001b[0m \u001b[0missparse\u001b[0m\u001b[0;34m(\u001b[0m\u001b[0mX\u001b[0m\u001b[0;34m)\u001b[0m\u001b[0;34m:\u001b[0m\u001b[0;34m\u001b[0m\u001b[0m\n",
      "\u001b[0;32m/Users/issingh/anaconda/lib/python2.7/site-packages/sklearn/utils/validation.pyc\u001b[0m in \u001b[0;36mcheck_array\u001b[0;34m(array, accept_sparse, dtype, order, copy, force_all_finite, ensure_2d, allow_nd, ensure_min_samples, ensure_min_features, warn_on_dtype, estimator)\u001b[0m\n\u001b[1;32m    380\u001b[0m                                       force_all_finite)\n\u001b[1;32m    381\u001b[0m     \u001b[0;32melse\u001b[0m\u001b[0;34m:\u001b[0m\u001b[0;34m\u001b[0m\u001b[0m\n\u001b[0;32m--> 382\u001b[0;31m         \u001b[0marray\u001b[0m \u001b[0;34m=\u001b[0m \u001b[0mnp\u001b[0m\u001b[0;34m.\u001b[0m\u001b[0marray\u001b[0m\u001b[0;34m(\u001b[0m\u001b[0marray\u001b[0m\u001b[0;34m,\u001b[0m \u001b[0mdtype\u001b[0m\u001b[0;34m=\u001b[0m\u001b[0mdtype\u001b[0m\u001b[0;34m,\u001b[0m \u001b[0morder\u001b[0m\u001b[0;34m=\u001b[0m\u001b[0morder\u001b[0m\u001b[0;34m,\u001b[0m \u001b[0mcopy\u001b[0m\u001b[0;34m=\u001b[0m\u001b[0mcopy\u001b[0m\u001b[0;34m)\u001b[0m\u001b[0;34m\u001b[0m\u001b[0m\n\u001b[0m\u001b[1;32m    383\u001b[0m \u001b[0;34m\u001b[0m\u001b[0m\n\u001b[1;32m    384\u001b[0m         \u001b[0;32mif\u001b[0m \u001b[0mensure_2d\u001b[0m\u001b[0;34m:\u001b[0m\u001b[0;34m\u001b[0m\u001b[0m\n",
      "\u001b[0;31mValueError\u001b[0m: invalid literal for float(): 6.>1000"
     ]
    }
   ],
   "source": [
    "from sklearn import preprocessing\n",
    "from sklearn import utils\n",
    "\n",
    "import numpy as np\n",
    "import matplotlib.pyplot as plt\n",
    "from sklearn.tree import DecisionTreeRegressor\n",
    "from sklearn.ensemble import AdaBoostRegressor\n",
    "\n",
    "lab_enc = preprocessing.LabelEncoder()\n",
    "encoded = lab_enc.fit_transform(y_train)\n",
    "regressor = DecisionTreeRegressor(max_depth=3)\n",
    "regressor.fit(X_train, y_train)\n",
    "\n",
    "\n"
   ]
  },
  {
   "cell_type": "code",
   "execution_count": null,
   "metadata": {},
   "outputs": [],
   "source": [
    "y_train.unique()"
   ]
  },
  {
   "cell_type": "code",
   "execution_count": null,
   "metadata": {},
   "outputs": [],
   "source": [
    "from sklearn import tree\n",
    "import graphviz \n",
    "\n",
    "from sklearn.tree import export_graphviz\n",
    "\n",
    "export_graphviz(regressor, filled=True, out_file='tree.dot',feature_names=X_train.columns)\n",
    "\n",
    "!dot -Tpng tree.dot > tree.png # to convert the tree in a png image\n",
    "\n",
    "\n",
    "from IPython.display import Image\n",
    "Image(filename='tree.png')"
   ]
  },
  {
   "cell_type": "code",
   "execution_count": null,
   "metadata": {},
   "outputs": [],
   "source": [
    "#Adding another version of decision tree just to see if removing DTE makes a difference\n",
    "\n",
    "\n",
    "from sklearn import preprocessing\n",
    "from sklearn import utils\n",
    "\n",
    "import numpy as np\n",
    "import matplotlib.pyplot as plt\n",
    "from sklearn.tree import DecisionTreeRegressor\n",
    "from sklearn.ensemble import AdaBoostRegressor\n",
    "\n",
    "lab_enc = preprocessing.LabelEncoder()\n",
    "encoded = lab_enc.fit_transform(y_train)\n",
    "regressor = DecisionTreeRegressor(max_depth=1)\n",
    "regressor.fit(X_train, y_train)\n",
    "\n",
    "from sklearn import tree\n",
    "import graphviz \n",
    "\n",
    "from sklearn.tree import export_graphviz\n",
    "\n",
    "export_graphviz(regressor, filled=True, out_file='tree.dot',feature_names=X_train.columns)\n",
    "\n",
    "!dot -Tpng tree.dot > tree.png # to convert the tree in a png image\n",
    "\n",
    "\n",
    "from IPython.display import Image\n",
    "Image(filename='tree.png')"
   ]
  },
  {
   "cell_type": "code",
   "execution_count": null,
   "metadata": {},
   "outputs": [],
   "source": [
    "#Building a decision tree classifier with a gini index\n",
    "#Site referenced http://dataaspirant.com/2017/02/01/decision-tree-algorithm-python-with-scikit-learn/\n",
    "\n",
    "import numpy as np\n",
    "import pandas as pd\n",
    "from sklearn.cross_validation import train_test_split\n",
    "from sklearn.tree import DecisionTreeClassifier\n",
    "from sklearn.metrics import accuracy_score\n",
    "from sklearn import tree\n",
    "\n",
    "clf_gini = DecisionTreeClassifier(class_weight=None, criterion='gini', max_depth=3,\n",
    "            max_features=None, max_leaf_nodes=None, min_samples_leaf=5,\n",
    "            min_samples_split=2, min_weight_fraction_leaf=0.0,\n",
    "            presort=False, random_state=100, splitter='best')\n",
    "\n",
    "clf_gini.fit(X_train, y_train)"
   ]
  },
  {
   "cell_type": "code",
   "execution_count": null,
   "metadata": {},
   "outputs": [],
   "source": [
    "\n",
    "from sklearn import tree\n",
    "import graphviz \n",
    "\n",
    "from sklearn.tree import export_graphviz\n",
    "\n",
    "export_graphviz(clf_gini, filled=True, out_file='tree.dot',feature_names=X_train.columns)\n",
    "\n",
    "!dot -Tpng tree.dot > tree.png # to convert the tree in a png image\n",
    "\n",
    "\n",
    "from IPython.display import Image\n",
    "Image(filename='tree.png')"
   ]
  },
  {
   "cell_type": "code",
   "execution_count": null,
   "metadata": {},
   "outputs": [],
   "source": [
    "df.columns"
   ]
  },
  {
   "cell_type": "code",
   "execution_count": 49,
   "metadata": {
    "collapsed": true
   },
   "outputs": [],
   "source": [
    "#trying to use one hot encoder\n",
    "#site referenced here https://stackoverflow.com/questions/37292872/how-can-i-one-hot-encode-in-python\n",
    "\n",
    "df3 = df2\n",
    "\n",
    "onehot1 = pd.get_dummies(df3['MARKETINGCHANNELGROUP'])\n",
    "onehot2 = pd.get_dummies(df3['ARTISTCATEGORY'])\n"
   ]
  },
  {
   "cell_type": "code",
   "execution_count": 50,
   "metadata": {
    "collapsed": true
   },
   "outputs": [],
   "source": [
    "df3=df3.join(onehot1)\n",
    "df3=df3.join(onehot2)"
   ]
  },
  {
   "cell_type": "code",
   "execution_count": 51,
   "metadata": {},
   "outputs": [
    {
     "data": {
      "text/plain": [
       "Index([u'DTE', u'MARKETINGCHANNELGROUP', u'ARTISTCATEGORY', u'GMSFP',\n",
       "       u'RepeatPurchase', u'Direct', u'Paid Search', u'SEO', u'1.TOP 50',\n",
       "       u'2.50-100', u'3.100-200', u'4.200-600', u'5.600-1000', u'6.>1000'],\n",
       "      dtype='object')"
      ]
     },
     "execution_count": 51,
     "metadata": {},
     "output_type": "execute_result"
    }
   ],
   "source": [
    "df3.columns"
   ]
  },
  {
   "cell_type": "code",
   "execution_count": 52,
   "metadata": {
    "collapsed": true
   },
   "outputs": [],
   "source": [
    "df3 = df3.drop('MARKETINGCHANNELGROUP', axis = 1)"
   ]
  },
  {
   "cell_type": "code",
   "execution_count": 53,
   "metadata": {
    "collapsed": true
   },
   "outputs": [],
   "source": [
    "df3 = df3.drop('ARTISTCATEGORY', axis = 1)"
   ]
  },
  {
   "cell_type": "code",
   "execution_count": 54,
   "metadata": {},
   "outputs": [
    {
     "data": {
      "text/plain": [
       "(127920, 12)"
      ]
     },
     "execution_count": 54,
     "metadata": {},
     "output_type": "execute_result"
    }
   ],
   "source": [
    "df3.shape"
   ]
  },
  {
   "cell_type": "code",
   "execution_count": 55,
   "metadata": {},
   "outputs": [
    {
     "data": {
      "text/plain": [
       "Index([u'DTE', u'GMSFP', u'RepeatPurchase', u'Direct', u'Paid Search', u'SEO',\n",
       "       u'1.TOP 50', u'2.50-100', u'3.100-200', u'4.200-600', u'5.600-1000',\n",
       "       u'6.>1000'],\n",
       "      dtype='object')"
      ]
     },
     "execution_count": 55,
     "metadata": {},
     "output_type": "execute_result"
    }
   ],
   "source": [
    "df3.columns"
   ]
  },
  {
   "cell_type": "code",
   "execution_count": 56,
   "metadata": {
    "collapsed": true
   },
   "outputs": [],
   "source": [
    "y_train = df3.RepeatPurchase\n",
    "X_train = df3.drop('RepeatPurchase', axis =1 )"
   ]
  },
  {
   "cell_type": "code",
   "execution_count": 57,
   "metadata": {},
   "outputs": [
    {
     "data": {
      "text/plain": [
       "Index([u'DTE', u'GMSFP', u'Direct', u'Paid Search', u'SEO', u'1.TOP 50',\n",
       "       u'2.50-100', u'3.100-200', u'4.200-600', u'5.600-1000', u'6.>1000'],\n",
       "      dtype='object')"
      ]
     },
     "execution_count": 57,
     "metadata": {},
     "output_type": "execute_result"
    }
   ],
   "source": [
    "X_train.columns"
   ]
  },
  {
   "cell_type": "code",
   "execution_count": 58,
   "metadata": {},
   "outputs": [
    {
     "data": {
      "text/plain": [
       "0    112234\n",
       "1     15686\n",
       "Name: RepeatPurchase, dtype: int64"
      ]
     },
     "execution_count": 58,
     "metadata": {},
     "output_type": "execute_result"
    }
   ],
   "source": [
    "y_train.value_counts()"
   ]
  },
  {
   "cell_type": "code",
   "execution_count": null,
   "metadata": {},
   "outputs": [],
   "source": [
    "#Building a decision tree classifier with a gini index\n",
    "#Site referenced http://dataaspirant.com/2017/02/01/decision-tree-algorithm-python-with-scikit-learn/\n",
    "\n",
    "import numpy as np\n",
    "import pandas as pd\n",
    "from sklearn.cross_validation import train_test_split\n",
    "from sklearn.tree import DecisionTreeClassifier\n",
    "from sklearn.metrics import accuracy_score\n",
    "from sklearn import tree\n",
    "\n",
    "clf_gini = DecisionTreeClassifier(class_weight=None, criterion='gini', max_depth=2,\n",
    "            max_features=None, max_leaf_nodes=None, min_samples_leaf=5,\n",
    "            min_samples_split=2, min_weight_fraction_leaf=0.0,\n",
    "            presort=False, random_state=100, splitter='best')\n",
    "\n",
    "clf_gini.fit(X_train, y_train)\n",
    "\n",
    "\n",
    "from sklearn import tree\n",
    "import graphviz \n",
    "\n",
    "from sklearn.tree import export_graphviz\n",
    "\n",
    "export_graphviz(clf_gini, filled=True, out_file='tree.dot',feature_names=X_train.columns)\n",
    "\n",
    "!dot -Tpng tree.dot > tree.png # to convert the tree in a png image\n",
    "\n",
    "\n",
    "from IPython.display import Image\n",
    "Image(filename='tree.png')"
   ]
  },
  {
   "cell_type": "code",
   "execution_count": null,
   "metadata": {},
   "outputs": [],
   "source": [
    "#Adding another version of decision tree just to see if removing DTE makes a difference\n",
    "\n",
    "\n",
    "from sklearn import preprocessing\n",
    "from sklearn import utils\n",
    "\n",
    "import numpy as np\n",
    "import matplotlib.pyplot as plt\n",
    "from sklearn.tree import DecisionTreeRegressor\n",
    "from sklearn.ensemble import AdaBoostRegressor\n",
    "\n",
    "lab_enc = preprocessing.LabelEncoder()\n",
    "encoded = lab_enc.fit_transform(y_train)\n",
    "regressor = DecisionTreeRegressor(max_depth=1)\n",
    "regressor.fit(X_train, y_train)\n",
    "\n",
    "from sklearn import tree\n",
    "import graphviz \n",
    "\n",
    "from sklearn.tree import export_graphviz\n",
    "\n",
    "export_graphviz(regressor, filled=True, out_file='tree.dot',feature_names=X_train.columns)\n",
    "\n",
    "!dot -Tpng tree.dot > tree.png # to convert the tree in a png image\n",
    "\n",
    "\n",
    "from IPython.display import Image\n",
    "Image(filename='tree.png')"
   ]
  },
  {
   "cell_type": "code",
   "execution_count": 60,
   "metadata": {
    "collapsed": true
   },
   "outputs": [],
   "source": [
    "df3= df3[df3.GMSFP>0]\n",
    "y_train = df3.RepeatPurchase\n",
    "X_train = df3.drop('RepeatPurchase', axis =1 )"
   ]
  },
  {
   "cell_type": "code",
   "execution_count": null,
   "metadata": {},
   "outputs": [],
   "source": [
    "import pandas as pd\n",
    "import numpy as np\n",
    "import matplotlib.pyplot as plt\n",
    "%matplotlib inline\n",
    "plt.style.use(\"fivethirtyeight\")\n",
    "from IPython.display import Image\n",
    "from sklearn.cross_validation import train_test_split, cross_val_score\n",
    "from sklearn.metrics import accuracy_score, precision_score, recall_score, confusion_matrix, classification_report, roc_auc_score, roc_curve\n",
    "from sklearn.linear_model import LogisticRegression, LinearRegression\n",
    "from sklearn.datasets import make_classification;\n"
   ]
  },
  {
   "cell_type": "code",
   "execution_count": 61,
   "metadata": {},
   "outputs": [
    {
     "name": "stdout",
     "output_type": "stream",
     "text": [
      "The accuracy score for the training data set is 87.73 percent\n",
      "The model accurately classified 87.76 percent of the testing data\n"
     ]
    }
   ],
   "source": [
    "#Now splitting the data and rerunning\n",
    "#The parameter random state here is used to ensure that everytime we run the same split again, we end \n",
    "#with the exact same dataset\n",
    "\n",
    "\n",
    "#Step 1\n",
    "X_train, X_test, y_train, y_test = train_test_split(X_train, y_train,test_size=0.4, random_state=42)\n",
    "\n",
    "#Step 2\n",
    "logr = LogisticRegression()\n",
    "logr.fit(X_train, y_train)\n",
    "\n",
    "#Step 3\n",
    "#Scoring the model on the training data \n",
    "score = logr.score(X_train,y_train)\n",
    "print \"The accuracy score for the training data set is {:.2f} percent\".format(score*100)\n",
    "\n",
    "pred_labels = logr.predict(X_test)\n",
    "\n",
    "dfTestResult =\n",
    "\n",
    "#Step 4\n",
    "testing_score = accuracy_score(y_test, logr.predict(X_test))\n",
    "print (\"The model accurately classified {:.2f} percent of the testing data\".format(testing_score*100))"
   ]
  },
  {
   "cell_type": "code",
   "execution_count": 62,
   "metadata": {},
   "outputs": [
    {
     "data": {
      "text/plain": [
       "Index([u'DTE', u'MARKETINGCHANNELGROUP', u'USER_ID', u'FIRST_PRCHS_DATE',\n",
       "       u'GENRE_CAT_FINAL', u'ARTISTCATEGORY', u'TICKETSSOLDFP', u'GMSFP',\n",
       "       u'GCFS', u'M12TICKETSSOLD', u'M12GMS', u'RepeatPurchase'],\n",
       "      dtype='object')"
      ]
     },
     "execution_count": 62,
     "metadata": {},
     "output_type": "execute_result"
    }
   ],
   "source": [
    "df.columns"
   ]
  },
  {
   "cell_type": "code",
   "execution_count": 63,
   "metadata": {},
   "outputs": [
    {
     "name": "stderr",
     "output_type": "stream",
     "text": [
      "/Users/issingh/anaconda/lib/python2.7/site-packages/ipykernel_launcher.py:2: SettingWithCopyWarning: \n",
      "A value is trying to be set on a copy of a slice from a DataFrame.\n",
      "Try using .loc[row_indexer,col_indexer] = value instead\n",
      "\n",
      "See the caveats in the documentation: http://pandas.pydata.org/pandas-docs/stable/indexing.html#indexing-view-versus-copy\n",
      "  \n"
     ]
    }
   ],
   "source": [
    "#Classification problem adding another column that contains the class of the buyer\n",
    "df['MultipleGCFRepeatBuyer'] =  (((df.M12TICKETSSOLD >0)*1 + (df.GCFS >0)*1)>1)*1"
   ]
  },
  {
   "cell_type": "code",
   "execution_count": 64,
   "metadata": {},
   "outputs": [
    {
     "data": {
      "text/plain": [
       "Index([u'DTE', u'MARKETINGCHANNELGROUP', u'USER_ID', u'FIRST_PRCHS_DATE',\n",
       "       u'GENRE_CAT_FINAL', u'ARTISTCATEGORY', u'TICKETSSOLDFP', u'GMSFP',\n",
       "       u'GCFS', u'M12TICKETSSOLD', u'M12GMS', u'RepeatPurchase',\n",
       "       u'MultipleGCFRepeatBuyer'],\n",
       "      dtype='object')"
      ]
     },
     "execution_count": 64,
     "metadata": {},
     "output_type": "execute_result"
    }
   ],
   "source": [
    "df.columns"
   ]
  },
  {
   "cell_type": "code",
   "execution_count": 65,
   "metadata": {},
   "outputs": [
    {
     "name": "stderr",
     "output_type": "stream",
     "text": [
      "/Users/issingh/anaconda/lib/python2.7/site-packages/ipykernel_launcher.py:1: SettingWithCopyWarning: \n",
      "A value is trying to be set on a copy of a slice from a DataFrame.\n",
      "Try using .loc[row_indexer,col_indexer] = value instead\n",
      "\n",
      "See the caveats in the documentation: http://pandas.pydata.org/pandas-docs/stable/indexing.html#indexing-view-versus-copy\n",
      "  \"\"\"Entry point for launching an IPython kernel.\n"
     ]
    }
   ],
   "source": [
    "df['TheaterRepeatBuyer'] =  (((df.M12TICKETSSOLD >0)*1 + (df.MultipleGCFRepeatBuyer<1)*1)>1)*1"
   ]
  },
  {
   "cell_type": "code",
   "execution_count": 66,
   "metadata": {},
   "outputs": [
    {
     "data": {
      "text/plain": [
       "Index([u'DTE', u'MARKETINGCHANNELGROUP', u'USER_ID', u'FIRST_PRCHS_DATE',\n",
       "       u'GENRE_CAT_FINAL', u'ARTISTCATEGORY', u'TICKETSSOLDFP', u'GMSFP',\n",
       "       u'GCFS', u'M12TICKETSSOLD', u'M12GMS', u'RepeatPurchase',\n",
       "       u'MultipleGCFRepeatBuyer', u'TheaterRepeatBuyer'],\n",
       "      dtype='object')"
      ]
     },
     "execution_count": 66,
     "metadata": {},
     "output_type": "execute_result"
    }
   ],
   "source": []
  },
  {
   "cell_type": "code",
   "execution_count": null,
   "metadata": {
    "collapsed": true
   },
   "outputs": [],
   "source": [
    "plt.figure(figsize=(18,12))\n",
    "plt.xlabel(\"Feature One\")\n",
    "plt.ylabel(\"Target\")\n",
    "plt.scatter(X,y, s=70, c= \"blue\", alpha=1, label=\"Scatter Plot Data\")\n",
    "plt.plot(X, pred, c=\"r\", linewidth=8, alpha=.5, label = \"Linear Regression Predictions\")\n",
    "plt.plot(X, pred_labels, c=\"y\", linewidth=8, alpha=.5, label = \"Logistic Regression Label Predictions\")\n",
    "plt.plot(X, pred_probs, c=\"g\", linewidth=8, alpha=.5, label = \"Logistic Regression Probability Predictions\")\n",
    "plt.legend(loc=4, fontsize=\"xx-large\");"
   ]
  }
 ],
 "metadata": {
  "kernelspec": {
   "display_name": "Python 2",
   "language": "python",
   "name": "python2"
  },
  "language_info": {
   "codemirror_mode": {
    "name": "ipython",
    "version": 2
   },
   "file_extension": ".py",
   "mimetype": "text/x-python",
   "name": "python",
   "nbconvert_exporter": "python",
   "pygments_lexer": "ipython2",
   "version": "2.7.13"
  }
 },
 "nbformat": 4,
 "nbformat_minor": 2
}
