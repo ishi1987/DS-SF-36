{
 "cells": [
  {
   "cell_type": "code",
   "execution_count": 44,
   "metadata": {
    "collapsed": true
   },
   "outputs": [],
   "source": [
    "import os\n",
    "import pandas as pd\n",
    "\n",
    "pd.set_option('display.max_rows', 10)\n",
    "pd.set_option('display.max_columns', 10)\n",
    "pd.set_option('display.notebook_repr_html', True)\n",
    "\n",
    "df = pd.read_csv('DataSetGA.csv')\n",
    "\n",
    "import os\n",
    "\n",
    "import math\n",
    "\n",
    "import numpy as np\n",
    "import pandas as pd\n",
    "pd.set_option('display.max_rows', 20)\n",
    "pd.set_option('display.notebook_repr_html', True)\n",
    "pd.set_option('display.max_columns', 10)\n",
    "\n",
    "import matplotlib.pyplot as plt\n",
    "%matplotlib inline\n",
    "plt.style.use('ggplot')"
   ]
  },
  {
   "cell_type": "code",
   "execution_count": 45,
   "metadata": {},
   "outputs": [
    {
     "data": {
      "text/plain": [
       "(128386, 11)"
      ]
     },
     "execution_count": 45,
     "metadata": {},
     "output_type": "execute_result"
    }
   ],
   "source": [
    "df.shape\n"
   ]
  },
  {
   "cell_type": "code",
   "execution_count": 46,
   "metadata": {},
   "outputs": [
    {
     "data": {
      "text/html": [
       "<div>\n",
       "<style>\n",
       "    .dataframe thead tr:only-child th {\n",
       "        text-align: right;\n",
       "    }\n",
       "\n",
       "    .dataframe thead th {\n",
       "        text-align: left;\n",
       "    }\n",
       "\n",
       "    .dataframe tbody tr th {\n",
       "        vertical-align: top;\n",
       "    }\n",
       "</style>\n",
       "<table border=\"1\" class=\"dataframe\">\n",
       "  <thead>\n",
       "    <tr style=\"text-align: right;\">\n",
       "      <th></th>\n",
       "      <th>DTE</th>\n",
       "      <th>MARKETINGCHANNELGROUP</th>\n",
       "      <th>USER_ID</th>\n",
       "      <th>FIRST_PRCHS_DATE</th>\n",
       "      <th>GENRE_CAT_FINAL</th>\n",
       "      <th>...</th>\n",
       "      <th>TICKETSSOLDFP</th>\n",
       "      <th>GMSFP</th>\n",
       "      <th>GCFS</th>\n",
       "      <th>M12TICKETSSOLD</th>\n",
       "      <th>M12GMS</th>\n",
       "    </tr>\n",
       "  </thead>\n",
       "  <tbody>\n",
       "    <tr>\n",
       "      <th>0</th>\n",
       "      <td>0</td>\n",
       "      <td>SEO</td>\n",
       "      <td>15561030</td>\n",
       "      <td>2016-07-09 00:00:00</td>\n",
       "      <td>Theater</td>\n",
       "      <td>...</td>\n",
       "      <td>2</td>\n",
       "      <td>322.30</td>\n",
       "      <td>1</td>\n",
       "      <td>0</td>\n",
       "      <td>0.00</td>\n",
       "    </tr>\n",
       "    <tr>\n",
       "      <th>1</th>\n",
       "      <td>0</td>\n",
       "      <td>SEO</td>\n",
       "      <td>33086170</td>\n",
       "      <td>2016-02-12 00:00:00</td>\n",
       "      <td>Theater</td>\n",
       "      <td>...</td>\n",
       "      <td>1</td>\n",
       "      <td>28.24</td>\n",
       "      <td>1</td>\n",
       "      <td>0</td>\n",
       "      <td>0.00</td>\n",
       "    </tr>\n",
       "    <tr>\n",
       "      <th>2</th>\n",
       "      <td>0</td>\n",
       "      <td>SEO</td>\n",
       "      <td>80288418</td>\n",
       "      <td>2016-02-21 00:00:00</td>\n",
       "      <td>Theater</td>\n",
       "      <td>...</td>\n",
       "      <td>2</td>\n",
       "      <td>97.04</td>\n",
       "      <td>1</td>\n",
       "      <td>2</td>\n",
       "      <td>250.44</td>\n",
       "    </tr>\n",
       "    <tr>\n",
       "      <th>3</th>\n",
       "      <td>0</td>\n",
       "      <td>SEO</td>\n",
       "      <td>84239376</td>\n",
       "      <td>2016-04-03 00:00:00</td>\n",
       "      <td>Theater</td>\n",
       "      <td>...</td>\n",
       "      <td>2</td>\n",
       "      <td>120.64</td>\n",
       "      <td>1</td>\n",
       "      <td>5</td>\n",
       "      <td>418.90</td>\n",
       "    </tr>\n",
       "    <tr>\n",
       "      <th>4</th>\n",
       "      <td>0</td>\n",
       "      <td>SEO</td>\n",
       "      <td>85569001</td>\n",
       "      <td>2016-01-13 00:00:00</td>\n",
       "      <td>Theater</td>\n",
       "      <td>...</td>\n",
       "      <td>2</td>\n",
       "      <td>238.98</td>\n",
       "      <td>1</td>\n",
       "      <td>0</td>\n",
       "      <td>0.00</td>\n",
       "    </tr>\n",
       "    <tr>\n",
       "      <th>5</th>\n",
       "      <td>0</td>\n",
       "      <td>SEO</td>\n",
       "      <td>85626578</td>\n",
       "      <td>2016-01-17 00:00:00</td>\n",
       "      <td>Theater</td>\n",
       "      <td>...</td>\n",
       "      <td>2</td>\n",
       "      <td>414.50</td>\n",
       "      <td>1</td>\n",
       "      <td>0</td>\n",
       "      <td>0.00</td>\n",
       "    </tr>\n",
       "    <tr>\n",
       "      <th>6</th>\n",
       "      <td>0</td>\n",
       "      <td>SEO</td>\n",
       "      <td>85813283</td>\n",
       "      <td>2016-01-30 00:00:00</td>\n",
       "      <td>Theater</td>\n",
       "      <td>...</td>\n",
       "      <td>1</td>\n",
       "      <td>119.49</td>\n",
       "      <td>1</td>\n",
       "      <td>0</td>\n",
       "      <td>0.00</td>\n",
       "    </tr>\n",
       "    <tr>\n",
       "      <th>7</th>\n",
       "      <td>0</td>\n",
       "      <td>SEO</td>\n",
       "      <td>85816143</td>\n",
       "      <td>2016-01-30 00:00:00</td>\n",
       "      <td>Theater</td>\n",
       "      <td>...</td>\n",
       "      <td>2</td>\n",
       "      <td>51.80</td>\n",
       "      <td>1</td>\n",
       "      <td>0</td>\n",
       "      <td>0.00</td>\n",
       "    </tr>\n",
       "    <tr>\n",
       "      <th>8</th>\n",
       "      <td>0</td>\n",
       "      <td>SEO</td>\n",
       "      <td>85903145</td>\n",
       "      <td>2016-05-20 00:00:00</td>\n",
       "      <td>Theater</td>\n",
       "      <td>...</td>\n",
       "      <td>3</td>\n",
       "      <td>159.72</td>\n",
       "      <td>1</td>\n",
       "      <td>0</td>\n",
       "      <td>0.00</td>\n",
       "    </tr>\n",
       "    <tr>\n",
       "      <th>9</th>\n",
       "      <td>0</td>\n",
       "      <td>SEO</td>\n",
       "      <td>85940441</td>\n",
       "      <td>2016-02-07 00:00:00</td>\n",
       "      <td>Theater</td>\n",
       "      <td>...</td>\n",
       "      <td>2</td>\n",
       "      <td>51.80</td>\n",
       "      <td>1</td>\n",
       "      <td>0</td>\n",
       "      <td>0.00</td>\n",
       "    </tr>\n",
       "    <tr>\n",
       "      <th>...</th>\n",
       "      <td>...</td>\n",
       "      <td>...</td>\n",
       "      <td>...</td>\n",
       "      <td>...</td>\n",
       "      <td>...</td>\n",
       "      <td>...</td>\n",
       "      <td>...</td>\n",
       "      <td>...</td>\n",
       "      <td>...</td>\n",
       "      <td>...</td>\n",
       "      <td>...</td>\n",
       "    </tr>\n",
       "    <tr>\n",
       "      <th>128376</th>\n",
       "      <td>394</td>\n",
       "      <td>Paid Search</td>\n",
       "      <td>86612794</td>\n",
       "      <td>2016-03-18 00:00:00</td>\n",
       "      <td>Theater</td>\n",
       "      <td>...</td>\n",
       "      <td>2</td>\n",
       "      <td>202.06</td>\n",
       "      <td>1</td>\n",
       "      <td>0</td>\n",
       "      <td>0.00</td>\n",
       "    </tr>\n",
       "    <tr>\n",
       "      <th>128377</th>\n",
       "      <td>411</td>\n",
       "      <td>Unknown</td>\n",
       "      <td>89266408</td>\n",
       "      <td>2016-07-26 00:00:00</td>\n",
       "      <td>Theater</td>\n",
       "      <td>...</td>\n",
       "      <td>2</td>\n",
       "      <td>189.08</td>\n",
       "      <td>1</td>\n",
       "      <td>0</td>\n",
       "      <td>0.00</td>\n",
       "    </tr>\n",
       "    <tr>\n",
       "      <th>128378</th>\n",
       "      <td>442</td>\n",
       "      <td>Paid Search</td>\n",
       "      <td>88575993</td>\n",
       "      <td>2016-06-26 00:00:00</td>\n",
       "      <td>Theater</td>\n",
       "      <td>...</td>\n",
       "      <td>4</td>\n",
       "      <td>2346.40</td>\n",
       "      <td>1</td>\n",
       "      <td>0</td>\n",
       "      <td>0.00</td>\n",
       "    </tr>\n",
       "    <tr>\n",
       "      <th>128379</th>\n",
       "      <td>446</td>\n",
       "      <td>Unknown</td>\n",
       "      <td>88288693</td>\n",
       "      <td>2016-06-13 00:00:00</td>\n",
       "      <td>Theater</td>\n",
       "      <td>...</td>\n",
       "      <td>1</td>\n",
       "      <td>620.40</td>\n",
       "      <td>1</td>\n",
       "      <td>0</td>\n",
       "      <td>0.00</td>\n",
       "    </tr>\n",
       "    <tr>\n",
       "      <th>128380</th>\n",
       "      <td>460</td>\n",
       "      <td>Unknown</td>\n",
       "      <td>87733548</td>\n",
       "      <td>2016-05-16 00:00:00</td>\n",
       "      <td>Theater</td>\n",
       "      <td>...</td>\n",
       "      <td>2</td>\n",
       "      <td>1118.21</td>\n",
       "      <td>1</td>\n",
       "      <td>0</td>\n",
       "      <td>0.00</td>\n",
       "    </tr>\n",
       "    <tr>\n",
       "      <th>128381</th>\n",
       "      <td>460</td>\n",
       "      <td>Paid Search</td>\n",
       "      <td>86762255</td>\n",
       "      <td>2016-03-28 00:00:00</td>\n",
       "      <td>Theater</td>\n",
       "      <td>...</td>\n",
       "      <td>5</td>\n",
       "      <td>1111.85</td>\n",
       "      <td>1</td>\n",
       "      <td>0</td>\n",
       "      <td>0.00</td>\n",
       "    </tr>\n",
       "    <tr>\n",
       "      <th>128382</th>\n",
       "      <td>462</td>\n",
       "      <td>Paid Search</td>\n",
       "      <td>87630577</td>\n",
       "      <td>2016-05-11 00:00:00</td>\n",
       "      <td>Theater</td>\n",
       "      <td>...</td>\n",
       "      <td>2</td>\n",
       "      <td>706.70</td>\n",
       "      <td>1</td>\n",
       "      <td>0</td>\n",
       "      <td>0.00</td>\n",
       "    </tr>\n",
       "    <tr>\n",
       "      <th>128383</th>\n",
       "      <td>465</td>\n",
       "      <td>Paid Search</td>\n",
       "      <td>87935590</td>\n",
       "      <td>2016-05-27 00:00:00</td>\n",
       "      <td>Theater</td>\n",
       "      <td>...</td>\n",
       "      <td>2</td>\n",
       "      <td>831.00</td>\n",
       "      <td>1</td>\n",
       "      <td>0</td>\n",
       "      <td>0.00</td>\n",
       "    </tr>\n",
       "    <tr>\n",
       "      <th>128384</th>\n",
       "      <td>498</td>\n",
       "      <td>Unknown</td>\n",
       "      <td>87091602</td>\n",
       "      <td>2016-04-15 00:00:00</td>\n",
       "      <td>Theater</td>\n",
       "      <td>...</td>\n",
       "      <td>4</td>\n",
       "      <td>2539.92</td>\n",
       "      <td>1</td>\n",
       "      <td>0</td>\n",
       "      <td>0.00</td>\n",
       "    </tr>\n",
       "    <tr>\n",
       "      <th>128385</th>\n",
       "      <td>546</td>\n",
       "      <td>Unknown</td>\n",
       "      <td>87540446</td>\n",
       "      <td>2016-05-06 00:00:00</td>\n",
       "      <td>Theater</td>\n",
       "      <td>...</td>\n",
       "      <td>2</td>\n",
       "      <td>600.50</td>\n",
       "      <td>1</td>\n",
       "      <td>0</td>\n",
       "      <td>0.00</td>\n",
       "    </tr>\n",
       "  </tbody>\n",
       "</table>\n",
       "<p>128386 rows × 11 columns</p>\n",
       "</div>"
      ],
      "text/plain": [
       "        DTE MARKETINGCHANNELGROUP   USER_ID     FIRST_PRCHS_DATE  \\\n",
       "0         0                   SEO  15561030  2016-07-09 00:00:00   \n",
       "1         0                   SEO  33086170  2016-02-12 00:00:00   \n",
       "2         0                   SEO  80288418  2016-02-21 00:00:00   \n",
       "3         0                   SEO  84239376  2016-04-03 00:00:00   \n",
       "4         0                   SEO  85569001  2016-01-13 00:00:00   \n",
       "5         0                   SEO  85626578  2016-01-17 00:00:00   \n",
       "6         0                   SEO  85813283  2016-01-30 00:00:00   \n",
       "7         0                   SEO  85816143  2016-01-30 00:00:00   \n",
       "8         0                   SEO  85903145  2016-05-20 00:00:00   \n",
       "9         0                   SEO  85940441  2016-02-07 00:00:00   \n",
       "...     ...                   ...       ...                  ...   \n",
       "128376  394           Paid Search  86612794  2016-03-18 00:00:00   \n",
       "128377  411               Unknown  89266408  2016-07-26 00:00:00   \n",
       "128378  442           Paid Search  88575993  2016-06-26 00:00:00   \n",
       "128379  446               Unknown  88288693  2016-06-13 00:00:00   \n",
       "128380  460               Unknown  87733548  2016-05-16 00:00:00   \n",
       "128381  460           Paid Search  86762255  2016-03-28 00:00:00   \n",
       "128382  462           Paid Search  87630577  2016-05-11 00:00:00   \n",
       "128383  465           Paid Search  87935590  2016-05-27 00:00:00   \n",
       "128384  498               Unknown  87091602  2016-04-15 00:00:00   \n",
       "128385  546               Unknown  87540446  2016-05-06 00:00:00   \n",
       "\n",
       "       GENRE_CAT_FINAL   ...   TICKETSSOLDFP    GMSFP  GCFS  M12TICKETSSOLD  \\\n",
       "0              Theater   ...               2   322.30     1               0   \n",
       "1              Theater   ...               1    28.24     1               0   \n",
       "2              Theater   ...               2    97.04     1               2   \n",
       "3              Theater   ...               2   120.64     1               5   \n",
       "4              Theater   ...               2   238.98     1               0   \n",
       "5              Theater   ...               2   414.50     1               0   \n",
       "6              Theater   ...               1   119.49     1               0   \n",
       "7              Theater   ...               2    51.80     1               0   \n",
       "8              Theater   ...               3   159.72     1               0   \n",
       "9              Theater   ...               2    51.80     1               0   \n",
       "...                ...   ...             ...      ...   ...             ...   \n",
       "128376         Theater   ...               2   202.06     1               0   \n",
       "128377         Theater   ...               2   189.08     1               0   \n",
       "128378         Theater   ...               4  2346.40     1               0   \n",
       "128379         Theater   ...               1   620.40     1               0   \n",
       "128380         Theater   ...               2  1118.21     1               0   \n",
       "128381         Theater   ...               5  1111.85     1               0   \n",
       "128382         Theater   ...               2   706.70     1               0   \n",
       "128383         Theater   ...               2   831.00     1               0   \n",
       "128384         Theater   ...               4  2539.92     1               0   \n",
       "128385         Theater   ...               2   600.50     1               0   \n",
       "\n",
       "        M12GMS  \n",
       "0         0.00  \n",
       "1         0.00  \n",
       "2       250.44  \n",
       "3       418.90  \n",
       "4         0.00  \n",
       "5         0.00  \n",
       "6         0.00  \n",
       "7         0.00  \n",
       "8         0.00  \n",
       "9         0.00  \n",
       "...        ...  \n",
       "128376    0.00  \n",
       "128377    0.00  \n",
       "128378    0.00  \n",
       "128379    0.00  \n",
       "128380    0.00  \n",
       "128381    0.00  \n",
       "128382    0.00  \n",
       "128383    0.00  \n",
       "128384    0.00  \n",
       "128385    0.00  \n",
       "\n",
       "[128386 rows x 11 columns]"
      ]
     },
     "execution_count": 46,
     "metadata": {},
     "output_type": "execute_result"
    }
   ],
   "source": [
    "df"
   ]
  },
  {
   "cell_type": "code",
   "execution_count": 47,
   "metadata": {},
   "outputs": [
    {
     "data": {
      "text/plain": [
       "Index([u'DTE', u'MARKETINGCHANNELGROUP', u'USER_ID', u'FIRST_PRCHS_DATE',\n",
       "       u'GENRE_CAT_FINAL', u'ARTISTCATEGORY', u'TICKETSSOLDFP', u'GMSFP',\n",
       "       u'GCFS', u'M12TICKETSSOLD', u'M12GMS'],\n",
       "      dtype='object')"
      ]
     },
     "execution_count": 47,
     "metadata": {},
     "output_type": "execute_result"
    }
   ],
   "source": [
    "\n",
    "df.columns"
   ]
  },
  {
   "cell_type": "code",
   "execution_count": 48,
   "metadata": {},
   "outputs": [
    {
     "data": {
      "text/html": [
       "<div>\n",
       "<style>\n",
       "    .dataframe thead tr:only-child th {\n",
       "        text-align: right;\n",
       "    }\n",
       "\n",
       "    .dataframe thead th {\n",
       "        text-align: left;\n",
       "    }\n",
       "\n",
       "    .dataframe tbody tr th {\n",
       "        vertical-align: top;\n",
       "    }\n",
       "</style>\n",
       "<table border=\"1\" class=\"dataframe\">\n",
       "  <thead>\n",
       "    <tr style=\"text-align: right;\">\n",
       "      <th></th>\n",
       "      <th>MARKETINGCHANNELGROUP</th>\n",
       "    </tr>\n",
       "  </thead>\n",
       "  <tbody>\n",
       "    <tr>\n",
       "      <th>0</th>\n",
       "      <td>SEO</td>\n",
       "    </tr>\n",
       "    <tr>\n",
       "      <th>1</th>\n",
       "      <td>SEO</td>\n",
       "    </tr>\n",
       "    <tr>\n",
       "      <th>2</th>\n",
       "      <td>SEO</td>\n",
       "    </tr>\n",
       "    <tr>\n",
       "      <th>3</th>\n",
       "      <td>SEO</td>\n",
       "    </tr>\n",
       "    <tr>\n",
       "      <th>4</th>\n",
       "      <td>SEO</td>\n",
       "    </tr>\n",
       "    <tr>\n",
       "      <th>5</th>\n",
       "      <td>SEO</td>\n",
       "    </tr>\n",
       "    <tr>\n",
       "      <th>6</th>\n",
       "      <td>SEO</td>\n",
       "    </tr>\n",
       "    <tr>\n",
       "      <th>7</th>\n",
       "      <td>SEO</td>\n",
       "    </tr>\n",
       "    <tr>\n",
       "      <th>8</th>\n",
       "      <td>SEO</td>\n",
       "    </tr>\n",
       "    <tr>\n",
       "      <th>9</th>\n",
       "      <td>SEO</td>\n",
       "    </tr>\n",
       "    <tr>\n",
       "      <th>...</th>\n",
       "      <td>...</td>\n",
       "    </tr>\n",
       "    <tr>\n",
       "      <th>128376</th>\n",
       "      <td>Paid Search</td>\n",
       "    </tr>\n",
       "    <tr>\n",
       "      <th>128377</th>\n",
       "      <td>Unknown</td>\n",
       "    </tr>\n",
       "    <tr>\n",
       "      <th>128378</th>\n",
       "      <td>Paid Search</td>\n",
       "    </tr>\n",
       "    <tr>\n",
       "      <th>128379</th>\n",
       "      <td>Unknown</td>\n",
       "    </tr>\n",
       "    <tr>\n",
       "      <th>128380</th>\n",
       "      <td>Unknown</td>\n",
       "    </tr>\n",
       "    <tr>\n",
       "      <th>128381</th>\n",
       "      <td>Paid Search</td>\n",
       "    </tr>\n",
       "    <tr>\n",
       "      <th>128382</th>\n",
       "      <td>Paid Search</td>\n",
       "    </tr>\n",
       "    <tr>\n",
       "      <th>128383</th>\n",
       "      <td>Paid Search</td>\n",
       "    </tr>\n",
       "    <tr>\n",
       "      <th>128384</th>\n",
       "      <td>Unknown</td>\n",
       "    </tr>\n",
       "    <tr>\n",
       "      <th>128385</th>\n",
       "      <td>Unknown</td>\n",
       "    </tr>\n",
       "  </tbody>\n",
       "</table>\n",
       "<p>128386 rows × 1 columns</p>\n",
       "</div>"
      ],
      "text/plain": [
       "       MARKETINGCHANNELGROUP\n",
       "0                        SEO\n",
       "1                        SEO\n",
       "2                        SEO\n",
       "3                        SEO\n",
       "4                        SEO\n",
       "5                        SEO\n",
       "6                        SEO\n",
       "7                        SEO\n",
       "8                        SEO\n",
       "9                        SEO\n",
       "...                      ...\n",
       "128376           Paid Search\n",
       "128377               Unknown\n",
       "128378           Paid Search\n",
       "128379               Unknown\n",
       "128380               Unknown\n",
       "128381           Paid Search\n",
       "128382           Paid Search\n",
       "128383           Paid Search\n",
       "128384               Unknown\n",
       "128385               Unknown\n",
       "\n",
       "[128386 rows x 1 columns]"
      ]
     },
     "execution_count": 48,
     "metadata": {},
     "output_type": "execute_result"
    }
   ],
   "source": [
    "#subsetting the dataset on marketing channel as a dataframe\n",
    "df[['MARKETINGCHANNELGROUP']]"
   ]
  },
  {
   "cell_type": "code",
   "execution_count": 49,
   "metadata": {
    "collapsed": true
   },
   "outputs": [],
   "source": [
    "#Replacing the values in the dataframe for cases where the marketing channel is unknown\n",
    "df['MARKETINGCHANNELGROUP'].replace('Unknown', 'Direct',inplace=True)"
   ]
  },
  {
   "cell_type": "code",
   "execution_count": 50,
   "metadata": {},
   "outputs": [
    {
     "data": {
      "text/html": [
       "<div>\n",
       "<style>\n",
       "    .dataframe thead tr:only-child th {\n",
       "        text-align: right;\n",
       "    }\n",
       "\n",
       "    .dataframe thead th {\n",
       "        text-align: left;\n",
       "    }\n",
       "\n",
       "    .dataframe tbody tr th {\n",
       "        vertical-align: top;\n",
       "    }\n",
       "</style>\n",
       "<table border=\"1\" class=\"dataframe\">\n",
       "  <thead>\n",
       "    <tr style=\"text-align: right;\">\n",
       "      <th></th>\n",
       "      <th>MARKETINGCHANNELGROUP</th>\n",
       "    </tr>\n",
       "  </thead>\n",
       "  <tbody>\n",
       "    <tr>\n",
       "      <th>0</th>\n",
       "      <td>SEO</td>\n",
       "    </tr>\n",
       "    <tr>\n",
       "      <th>1</th>\n",
       "      <td>SEO</td>\n",
       "    </tr>\n",
       "    <tr>\n",
       "      <th>2</th>\n",
       "      <td>SEO</td>\n",
       "    </tr>\n",
       "    <tr>\n",
       "      <th>3</th>\n",
       "      <td>SEO</td>\n",
       "    </tr>\n",
       "    <tr>\n",
       "      <th>4</th>\n",
       "      <td>SEO</td>\n",
       "    </tr>\n",
       "    <tr>\n",
       "      <th>5</th>\n",
       "      <td>SEO</td>\n",
       "    </tr>\n",
       "    <tr>\n",
       "      <th>6</th>\n",
       "      <td>SEO</td>\n",
       "    </tr>\n",
       "    <tr>\n",
       "      <th>7</th>\n",
       "      <td>SEO</td>\n",
       "    </tr>\n",
       "    <tr>\n",
       "      <th>8</th>\n",
       "      <td>SEO</td>\n",
       "    </tr>\n",
       "    <tr>\n",
       "      <th>9</th>\n",
       "      <td>SEO</td>\n",
       "    </tr>\n",
       "    <tr>\n",
       "      <th>...</th>\n",
       "      <td>...</td>\n",
       "    </tr>\n",
       "    <tr>\n",
       "      <th>128376</th>\n",
       "      <td>Paid Search</td>\n",
       "    </tr>\n",
       "    <tr>\n",
       "      <th>128377</th>\n",
       "      <td>Direct</td>\n",
       "    </tr>\n",
       "    <tr>\n",
       "      <th>128378</th>\n",
       "      <td>Paid Search</td>\n",
       "    </tr>\n",
       "    <tr>\n",
       "      <th>128379</th>\n",
       "      <td>Direct</td>\n",
       "    </tr>\n",
       "    <tr>\n",
       "      <th>128380</th>\n",
       "      <td>Direct</td>\n",
       "    </tr>\n",
       "    <tr>\n",
       "      <th>128381</th>\n",
       "      <td>Paid Search</td>\n",
       "    </tr>\n",
       "    <tr>\n",
       "      <th>128382</th>\n",
       "      <td>Paid Search</td>\n",
       "    </tr>\n",
       "    <tr>\n",
       "      <th>128383</th>\n",
       "      <td>Paid Search</td>\n",
       "    </tr>\n",
       "    <tr>\n",
       "      <th>128384</th>\n",
       "      <td>Direct</td>\n",
       "    </tr>\n",
       "    <tr>\n",
       "      <th>128385</th>\n",
       "      <td>Direct</td>\n",
       "    </tr>\n",
       "  </tbody>\n",
       "</table>\n",
       "<p>128386 rows × 1 columns</p>\n",
       "</div>"
      ],
      "text/plain": [
       "       MARKETINGCHANNELGROUP\n",
       "0                        SEO\n",
       "1                        SEO\n",
       "2                        SEO\n",
       "3                        SEO\n",
       "4                        SEO\n",
       "5                        SEO\n",
       "6                        SEO\n",
       "7                        SEO\n",
       "8                        SEO\n",
       "9                        SEO\n",
       "...                      ...\n",
       "128376           Paid Search\n",
       "128377                Direct\n",
       "128378           Paid Search\n",
       "128379                Direct\n",
       "128380                Direct\n",
       "128381           Paid Search\n",
       "128382           Paid Search\n",
       "128383           Paid Search\n",
       "128384                Direct\n",
       "128385                Direct\n",
       "\n",
       "[128386 rows x 1 columns]"
      ]
     },
     "execution_count": 50,
     "metadata": {},
     "output_type": "execute_result"
    }
   ],
   "source": [
    "df[['MARKETINGCHANNELGROUP']]"
   ]
  },
  {
   "cell_type": "code",
   "execution_count": 51,
   "metadata": {},
   "outputs": [
    {
     "data": {
      "text/plain": [
       "Index([u'DTE', u'MARKETINGCHANNELGROUP', u'USER_ID', u'FIRST_PRCHS_DATE',\n",
       "       u'GENRE_CAT_FINAL', u'ARTISTCATEGORY', u'TICKETSSOLDFP', u'GMSFP',\n",
       "       u'GCFS', u'M12TICKETSSOLD', u'M12GMS'],\n",
       "      dtype='object')"
      ]
     },
     "execution_count": 51,
     "metadata": {},
     "output_type": "execute_result"
    }
   ],
   "source": [
    "df.columns"
   ]
  },
  {
   "cell_type": "code",
   "execution_count": 52,
   "metadata": {},
   "outputs": [
    {
     "data": {
      "text/plain": [
       "Direct                    60480\n",
       "Paid Search               41445\n",
       "SEO                       25995\n",
       "stubhub.com                 150\n",
       "Contextual                   91\n",
       "Email                        79\n",
       "Push Notifications           51\n",
       "Social                       31\n",
       "Affiliates                   27\n",
       "LGAFL - TDC - Checkout       14\n",
       "Stubhub.com                  11\n",
       "MLBAM                         9\n",
       "Digital Marketing             2\n",
       "eBay                          1\n",
       "Name: MARKETINGCHANNELGROUP, dtype: int64"
      ]
     },
     "execution_count": 52,
     "metadata": {},
     "output_type": "execute_result"
    }
   ],
   "source": [
    "df['MARKETINGCHANNELGROUP'].value_counts()"
   ]
  },
  {
   "cell_type": "code",
   "execution_count": 53,
   "metadata": {
    "collapsed": true
   },
   "outputs": [],
   "source": [
    "#Limiting the dataset to direct, paid search and SEO\n",
    "df2 = df[df['MARKETINGCHANNELGROUP'].isin(['Direct','Paid Search','SEO'])]"
   ]
  },
  {
   "cell_type": "code",
   "execution_count": 54,
   "metadata": {},
   "outputs": [
    {
     "data": {
      "text/plain": [
       "0                 SEO\n",
       "1                 SEO\n",
       "2                 SEO\n",
       "3                 SEO\n",
       "4                 SEO\n",
       "5                 SEO\n",
       "6                 SEO\n",
       "7                 SEO\n",
       "8                 SEO\n",
       "9                 SEO\n",
       "             ...     \n",
       "128376    Paid Search\n",
       "128377         Direct\n",
       "128378    Paid Search\n",
       "128379         Direct\n",
       "128380         Direct\n",
       "128381    Paid Search\n",
       "128382    Paid Search\n",
       "128383    Paid Search\n",
       "128384         Direct\n",
       "128385         Direct\n",
       "Name: MARKETINGCHANNELGROUP, Length: 127920, dtype: object"
      ]
     },
     "execution_count": 54,
     "metadata": {},
     "output_type": "execute_result"
    }
   ],
   "source": [
    "df2.MARKETINGCHANNELGROUP"
   ]
  },
  {
   "cell_type": "code",
   "execution_count": 55,
   "metadata": {},
   "outputs": [
    {
     "data": {
      "text/plain": [
       "(127920, 11)"
      ]
     },
     "execution_count": 55,
     "metadata": {},
     "output_type": "execute_result"
    }
   ],
   "source": [
    "df2.shape"
   ]
  },
  {
   "cell_type": "code",
   "execution_count": 57,
   "metadata": {},
   "outputs": [
    {
     "data": {
      "text/plain": [
       "Direct         60480\n",
       "Paid Search    41445\n",
       "SEO            25995\n",
       "Name: MARKETINGCHANNELGROUP, dtype: int64"
      ]
     },
     "execution_count": 57,
     "metadata": {},
     "output_type": "execute_result"
    }
   ],
   "source": [
    "df2.MARKETINGCHANNELGROUP.value_counts()"
   ]
  },
  {
   "cell_type": "code",
   "execution_count": 15,
   "metadata": {},
   "outputs": [
    {
     "data": {
      "text/html": [
       "<div>\n",
       "<style>\n",
       "    .dataframe thead tr:only-child th {\n",
       "        text-align: right;\n",
       "    }\n",
       "\n",
       "    .dataframe thead th {\n",
       "        text-align: left;\n",
       "    }\n",
       "\n",
       "    .dataframe tbody tr th {\n",
       "        vertical-align: top;\n",
       "    }\n",
       "</style>\n",
       "<table border=\"1\" class=\"dataframe\">\n",
       "  <thead>\n",
       "    <tr style=\"text-align: right;\">\n",
       "      <th></th>\n",
       "      <th>DTE</th>\n",
       "      <th>MARKETINGCHANNELGROUP</th>\n",
       "      <th>USER_ID</th>\n",
       "      <th>FIRST_PRCHS_DATE</th>\n",
       "      <th>GENRE_CAT_FINAL</th>\n",
       "      <th>...</th>\n",
       "      <th>TICKETSSOLDFP</th>\n",
       "      <th>GMSFP</th>\n",
       "      <th>GCFS</th>\n",
       "      <th>M12TICKETSSOLD</th>\n",
       "      <th>M12GMS</th>\n",
       "    </tr>\n",
       "  </thead>\n",
       "  <tbody>\n",
       "    <tr>\n",
       "      <th>0</th>\n",
       "      <td>0</td>\n",
       "      <td>SEO</td>\n",
       "      <td>15561030</td>\n",
       "      <td>2016-07-09 00:00:00</td>\n",
       "      <td>Theater</td>\n",
       "      <td>...</td>\n",
       "      <td>2</td>\n",
       "      <td>322.30</td>\n",
       "      <td>1</td>\n",
       "      <td>0</td>\n",
       "      <td>0.00</td>\n",
       "    </tr>\n",
       "    <tr>\n",
       "      <th>1</th>\n",
       "      <td>0</td>\n",
       "      <td>SEO</td>\n",
       "      <td>33086170</td>\n",
       "      <td>2016-02-12 00:00:00</td>\n",
       "      <td>Theater</td>\n",
       "      <td>...</td>\n",
       "      <td>1</td>\n",
       "      <td>28.24</td>\n",
       "      <td>1</td>\n",
       "      <td>0</td>\n",
       "      <td>0.00</td>\n",
       "    </tr>\n",
       "    <tr>\n",
       "      <th>2</th>\n",
       "      <td>0</td>\n",
       "      <td>SEO</td>\n",
       "      <td>80288418</td>\n",
       "      <td>2016-02-21 00:00:00</td>\n",
       "      <td>Theater</td>\n",
       "      <td>...</td>\n",
       "      <td>2</td>\n",
       "      <td>97.04</td>\n",
       "      <td>1</td>\n",
       "      <td>2</td>\n",
       "      <td>250.44</td>\n",
       "    </tr>\n",
       "    <tr>\n",
       "      <th>3</th>\n",
       "      <td>0</td>\n",
       "      <td>SEO</td>\n",
       "      <td>84239376</td>\n",
       "      <td>2016-04-03 00:00:00</td>\n",
       "      <td>Theater</td>\n",
       "      <td>...</td>\n",
       "      <td>2</td>\n",
       "      <td>120.64</td>\n",
       "      <td>1</td>\n",
       "      <td>5</td>\n",
       "      <td>418.90</td>\n",
       "    </tr>\n",
       "    <tr>\n",
       "      <th>4</th>\n",
       "      <td>0</td>\n",
       "      <td>SEO</td>\n",
       "      <td>85569001</td>\n",
       "      <td>2016-01-13 00:00:00</td>\n",
       "      <td>Theater</td>\n",
       "      <td>...</td>\n",
       "      <td>2</td>\n",
       "      <td>238.98</td>\n",
       "      <td>1</td>\n",
       "      <td>0</td>\n",
       "      <td>0.00</td>\n",
       "    </tr>\n",
       "    <tr>\n",
       "      <th>5</th>\n",
       "      <td>0</td>\n",
       "      <td>SEO</td>\n",
       "      <td>85626578</td>\n",
       "      <td>2016-01-17 00:00:00</td>\n",
       "      <td>Theater</td>\n",
       "      <td>...</td>\n",
       "      <td>2</td>\n",
       "      <td>414.50</td>\n",
       "      <td>1</td>\n",
       "      <td>0</td>\n",
       "      <td>0.00</td>\n",
       "    </tr>\n",
       "    <tr>\n",
       "      <th>6</th>\n",
       "      <td>0</td>\n",
       "      <td>SEO</td>\n",
       "      <td>85813283</td>\n",
       "      <td>2016-01-30 00:00:00</td>\n",
       "      <td>Theater</td>\n",
       "      <td>...</td>\n",
       "      <td>1</td>\n",
       "      <td>119.49</td>\n",
       "      <td>1</td>\n",
       "      <td>0</td>\n",
       "      <td>0.00</td>\n",
       "    </tr>\n",
       "    <tr>\n",
       "      <th>7</th>\n",
       "      <td>0</td>\n",
       "      <td>SEO</td>\n",
       "      <td>85816143</td>\n",
       "      <td>2016-01-30 00:00:00</td>\n",
       "      <td>Theater</td>\n",
       "      <td>...</td>\n",
       "      <td>2</td>\n",
       "      <td>51.80</td>\n",
       "      <td>1</td>\n",
       "      <td>0</td>\n",
       "      <td>0.00</td>\n",
       "    </tr>\n",
       "    <tr>\n",
       "      <th>8</th>\n",
       "      <td>0</td>\n",
       "      <td>SEO</td>\n",
       "      <td>85903145</td>\n",
       "      <td>2016-05-20 00:00:00</td>\n",
       "      <td>Theater</td>\n",
       "      <td>...</td>\n",
       "      <td>3</td>\n",
       "      <td>159.72</td>\n",
       "      <td>1</td>\n",
       "      <td>0</td>\n",
       "      <td>0.00</td>\n",
       "    </tr>\n",
       "    <tr>\n",
       "      <th>9</th>\n",
       "      <td>0</td>\n",
       "      <td>SEO</td>\n",
       "      <td>85940441</td>\n",
       "      <td>2016-02-07 00:00:00</td>\n",
       "      <td>Theater</td>\n",
       "      <td>...</td>\n",
       "      <td>2</td>\n",
       "      <td>51.80</td>\n",
       "      <td>1</td>\n",
       "      <td>0</td>\n",
       "      <td>0.00</td>\n",
       "    </tr>\n",
       "    <tr>\n",
       "      <th>...</th>\n",
       "      <td>...</td>\n",
       "      <td>...</td>\n",
       "      <td>...</td>\n",
       "      <td>...</td>\n",
       "      <td>...</td>\n",
       "      <td>...</td>\n",
       "      <td>...</td>\n",
       "      <td>...</td>\n",
       "      <td>...</td>\n",
       "      <td>...</td>\n",
       "      <td>...</td>\n",
       "    </tr>\n",
       "    <tr>\n",
       "      <th>128376</th>\n",
       "      <td>394</td>\n",
       "      <td>Paid Search</td>\n",
       "      <td>86612794</td>\n",
       "      <td>2016-03-18 00:00:00</td>\n",
       "      <td>Theater</td>\n",
       "      <td>...</td>\n",
       "      <td>2</td>\n",
       "      <td>202.06</td>\n",
       "      <td>1</td>\n",
       "      <td>0</td>\n",
       "      <td>0.00</td>\n",
       "    </tr>\n",
       "    <tr>\n",
       "      <th>128377</th>\n",
       "      <td>411</td>\n",
       "      <td>Direct</td>\n",
       "      <td>89266408</td>\n",
       "      <td>2016-07-26 00:00:00</td>\n",
       "      <td>Theater</td>\n",
       "      <td>...</td>\n",
       "      <td>2</td>\n",
       "      <td>189.08</td>\n",
       "      <td>1</td>\n",
       "      <td>0</td>\n",
       "      <td>0.00</td>\n",
       "    </tr>\n",
       "    <tr>\n",
       "      <th>128378</th>\n",
       "      <td>442</td>\n",
       "      <td>Paid Search</td>\n",
       "      <td>88575993</td>\n",
       "      <td>2016-06-26 00:00:00</td>\n",
       "      <td>Theater</td>\n",
       "      <td>...</td>\n",
       "      <td>4</td>\n",
       "      <td>2346.40</td>\n",
       "      <td>1</td>\n",
       "      <td>0</td>\n",
       "      <td>0.00</td>\n",
       "    </tr>\n",
       "    <tr>\n",
       "      <th>128379</th>\n",
       "      <td>446</td>\n",
       "      <td>Direct</td>\n",
       "      <td>88288693</td>\n",
       "      <td>2016-06-13 00:00:00</td>\n",
       "      <td>Theater</td>\n",
       "      <td>...</td>\n",
       "      <td>1</td>\n",
       "      <td>620.40</td>\n",
       "      <td>1</td>\n",
       "      <td>0</td>\n",
       "      <td>0.00</td>\n",
       "    </tr>\n",
       "    <tr>\n",
       "      <th>128380</th>\n",
       "      <td>460</td>\n",
       "      <td>Direct</td>\n",
       "      <td>87733548</td>\n",
       "      <td>2016-05-16 00:00:00</td>\n",
       "      <td>Theater</td>\n",
       "      <td>...</td>\n",
       "      <td>2</td>\n",
       "      <td>1118.21</td>\n",
       "      <td>1</td>\n",
       "      <td>0</td>\n",
       "      <td>0.00</td>\n",
       "    </tr>\n",
       "    <tr>\n",
       "      <th>128381</th>\n",
       "      <td>460</td>\n",
       "      <td>Paid Search</td>\n",
       "      <td>86762255</td>\n",
       "      <td>2016-03-28 00:00:00</td>\n",
       "      <td>Theater</td>\n",
       "      <td>...</td>\n",
       "      <td>5</td>\n",
       "      <td>1111.85</td>\n",
       "      <td>1</td>\n",
       "      <td>0</td>\n",
       "      <td>0.00</td>\n",
       "    </tr>\n",
       "    <tr>\n",
       "      <th>128382</th>\n",
       "      <td>462</td>\n",
       "      <td>Paid Search</td>\n",
       "      <td>87630577</td>\n",
       "      <td>2016-05-11 00:00:00</td>\n",
       "      <td>Theater</td>\n",
       "      <td>...</td>\n",
       "      <td>2</td>\n",
       "      <td>706.70</td>\n",
       "      <td>1</td>\n",
       "      <td>0</td>\n",
       "      <td>0.00</td>\n",
       "    </tr>\n",
       "    <tr>\n",
       "      <th>128383</th>\n",
       "      <td>465</td>\n",
       "      <td>Paid Search</td>\n",
       "      <td>87935590</td>\n",
       "      <td>2016-05-27 00:00:00</td>\n",
       "      <td>Theater</td>\n",
       "      <td>...</td>\n",
       "      <td>2</td>\n",
       "      <td>831.00</td>\n",
       "      <td>1</td>\n",
       "      <td>0</td>\n",
       "      <td>0.00</td>\n",
       "    </tr>\n",
       "    <tr>\n",
       "      <th>128384</th>\n",
       "      <td>498</td>\n",
       "      <td>Direct</td>\n",
       "      <td>87091602</td>\n",
       "      <td>2016-04-15 00:00:00</td>\n",
       "      <td>Theater</td>\n",
       "      <td>...</td>\n",
       "      <td>4</td>\n",
       "      <td>2539.92</td>\n",
       "      <td>1</td>\n",
       "      <td>0</td>\n",
       "      <td>0.00</td>\n",
       "    </tr>\n",
       "    <tr>\n",
       "      <th>128385</th>\n",
       "      <td>546</td>\n",
       "      <td>Direct</td>\n",
       "      <td>87540446</td>\n",
       "      <td>2016-05-06 00:00:00</td>\n",
       "      <td>Theater</td>\n",
       "      <td>...</td>\n",
       "      <td>2</td>\n",
       "      <td>600.50</td>\n",
       "      <td>1</td>\n",
       "      <td>0</td>\n",
       "      <td>0.00</td>\n",
       "    </tr>\n",
       "  </tbody>\n",
       "</table>\n",
       "<p>127920 rows × 11 columns</p>\n",
       "</div>"
      ],
      "text/plain": [
       "        DTE MARKETINGCHANNELGROUP   USER_ID     FIRST_PRCHS_DATE  \\\n",
       "0         0                   SEO  15561030  2016-07-09 00:00:00   \n",
       "1         0                   SEO  33086170  2016-02-12 00:00:00   \n",
       "2         0                   SEO  80288418  2016-02-21 00:00:00   \n",
       "3         0                   SEO  84239376  2016-04-03 00:00:00   \n",
       "4         0                   SEO  85569001  2016-01-13 00:00:00   \n",
       "5         0                   SEO  85626578  2016-01-17 00:00:00   \n",
       "6         0                   SEO  85813283  2016-01-30 00:00:00   \n",
       "7         0                   SEO  85816143  2016-01-30 00:00:00   \n",
       "8         0                   SEO  85903145  2016-05-20 00:00:00   \n",
       "9         0                   SEO  85940441  2016-02-07 00:00:00   \n",
       "...     ...                   ...       ...                  ...   \n",
       "128376  394           Paid Search  86612794  2016-03-18 00:00:00   \n",
       "128377  411                Direct  89266408  2016-07-26 00:00:00   \n",
       "128378  442           Paid Search  88575993  2016-06-26 00:00:00   \n",
       "128379  446                Direct  88288693  2016-06-13 00:00:00   \n",
       "128380  460                Direct  87733548  2016-05-16 00:00:00   \n",
       "128381  460           Paid Search  86762255  2016-03-28 00:00:00   \n",
       "128382  462           Paid Search  87630577  2016-05-11 00:00:00   \n",
       "128383  465           Paid Search  87935590  2016-05-27 00:00:00   \n",
       "128384  498                Direct  87091602  2016-04-15 00:00:00   \n",
       "128385  546                Direct  87540446  2016-05-06 00:00:00   \n",
       "\n",
       "       GENRE_CAT_FINAL   ...   TICKETSSOLDFP    GMSFP  GCFS  M12TICKETSSOLD  \\\n",
       "0              Theater   ...               2   322.30     1               0   \n",
       "1              Theater   ...               1    28.24     1               0   \n",
       "2              Theater   ...               2    97.04     1               2   \n",
       "3              Theater   ...               2   120.64     1               5   \n",
       "4              Theater   ...               2   238.98     1               0   \n",
       "5              Theater   ...               2   414.50     1               0   \n",
       "6              Theater   ...               1   119.49     1               0   \n",
       "7              Theater   ...               2    51.80     1               0   \n",
       "8              Theater   ...               3   159.72     1               0   \n",
       "9              Theater   ...               2    51.80     1               0   \n",
       "...                ...   ...             ...      ...   ...             ...   \n",
       "128376         Theater   ...               2   202.06     1               0   \n",
       "128377         Theater   ...               2   189.08     1               0   \n",
       "128378         Theater   ...               4  2346.40     1               0   \n",
       "128379         Theater   ...               1   620.40     1               0   \n",
       "128380         Theater   ...               2  1118.21     1               0   \n",
       "128381         Theater   ...               5  1111.85     1               0   \n",
       "128382         Theater   ...               2   706.70     1               0   \n",
       "128383         Theater   ...               2   831.00     1               0   \n",
       "128384         Theater   ...               4  2539.92     1               0   \n",
       "128385         Theater   ...               2   600.50     1               0   \n",
       "\n",
       "        M12GMS  \n",
       "0         0.00  \n",
       "1         0.00  \n",
       "2       250.44  \n",
       "3       418.90  \n",
       "4         0.00  \n",
       "5         0.00  \n",
       "6         0.00  \n",
       "7         0.00  \n",
       "8         0.00  \n",
       "9         0.00  \n",
       "...        ...  \n",
       "128376    0.00  \n",
       "128377    0.00  \n",
       "128378    0.00  \n",
       "128379    0.00  \n",
       "128380    0.00  \n",
       "128381    0.00  \n",
       "128382    0.00  \n",
       "128383    0.00  \n",
       "128384    0.00  \n",
       "128385    0.00  \n",
       "\n",
       "[127920 rows x 11 columns]"
      ]
     },
     "execution_count": 15,
     "metadata": {},
     "output_type": "execute_result"
    }
   ],
   "source": [
    "df2.fillna(0)"
   ]
  },
  {
   "cell_type": "code",
   "execution_count": 58,
   "metadata": {
    "collapsed": true
   },
   "outputs": [],
   "source": [
    "#Classification problem adding another column that contains the class of the buyer\n",
    "df['MultipleGCFRepeatBuyer'] =  (((df.M12TICKETSSOLD >0)*1 + (df.GCFS >0)*1)>1)*1\n",
    "df['TheaterRepeatBuyer'] =  (((df.M12TICKETSSOLD >0)*1 + (df.MultipleGCFRepeatBuyer<1)*1)>1)*1\n",
    "df['One&Done'] =(df.M12TICKETSSOLD==0)*1"
   ]
  },
  {
   "cell_type": "code",
   "execution_count": 59,
   "metadata": {},
   "outputs": [
    {
     "data": {
      "text/plain": [
       "Index([u'DTE', u'MARKETINGCHANNELGROUP', u'USER_ID', u'FIRST_PRCHS_DATE',\n",
       "       u'GENRE_CAT_FINAL', u'ARTISTCATEGORY', u'TICKETSSOLDFP', u'GMSFP',\n",
       "       u'GCFS', u'M12TICKETSSOLD', u'M12GMS', u'MultipleGCFRepeatBuyer',\n",
       "       u'TheaterRepeatBuyer', u'One&Done'],\n",
       "      dtype='object')"
      ]
     },
     "execution_count": 59,
     "metadata": {},
     "output_type": "execute_result"
    }
   ],
   "source": [
    "df.columns"
   ]
  },
  {
   "cell_type": "code",
   "execution_count": 60,
   "metadata": {},
   "outputs": [
    {
     "data": {
      "text/plain": [
       "128386"
      ]
     },
     "execution_count": 60,
     "metadata": {},
     "output_type": "execute_result"
    }
   ],
   "source": [
    "#Checking if the same categorization is showing up twice\n",
    "((df['MultipleGCFRepeatBuyer'] +df['TheaterRepeatBuyer'] +df['One&Done'])==1).sum()"
   ]
  },
  {
   "cell_type": "code",
   "execution_count": 61,
   "metadata": {
    "collapsed": true
   },
   "outputs": [],
   "source": [
    "#Adding another category here\n",
    "\n",
    "def func(row):\n",
    "    if row['MultipleGCFRepeatBuyer'] == 1:\n",
    "        return 'MultipleGCFRepeatBuyer'\n",
    "    elif row['TheaterRepeatBuyer'] == 1:\n",
    "        return 'TheaterRepeatBuyer' \n",
    "    else:\n",
    "        return 'One&Done'\n",
    "\n",
    "df['Segment'] = df.apply(func, axis=1)"
   ]
  },
  {
   "cell_type": "code",
   "execution_count": 62,
   "metadata": {},
   "outputs": [
    {
     "data": {
      "text/plain": [
       "One&Done                  112589\n",
       "MultipleGCFRepeatBuyer     10191\n",
       "TheaterRepeatBuyer          5606\n",
       "Name: Segment, dtype: int64"
      ]
     },
     "execution_count": 62,
     "metadata": {},
     "output_type": "execute_result"
    }
   ],
   "source": [
    "df.Segment.value_counts()"
   ]
  },
  {
   "cell_type": "code",
   "execution_count": 34,
   "metadata": {},
   "outputs": [
    {
     "data": {
      "text/plain": [
       "Index([u'DTE', u'MARKETINGCHANNELGROUP', u'USER_ID', u'FIRST_PRCHS_DATE',\n",
       "       u'GENRE_CAT_FINAL', u'ARTISTCATEGORY', u'TICKETSSOLDFP', u'GMSFP',\n",
       "       u'GCFS', u'M12TICKETSSOLD', u'M12GMS', u'MultipleGCFRepeatBuyer',\n",
       "       u'TheaterRepeatBuyer', u'One&Done', u'Segment'],\n",
       "      dtype='object')"
      ]
     },
     "execution_count": 34,
     "metadata": {},
     "output_type": "execute_result"
    }
   ],
   "source": [
    "df.columns"
   ]
  },
  {
   "cell_type": "code",
   "execution_count": 63,
   "metadata": {
    "collapsed": true
   },
   "outputs": [],
   "source": [
    "#Limiting the dataset to direct, paid search and SEO\n",
    "df = df[df['MARKETINGCHANNELGROUP'].isin(['Direct','Paid Search','SEO'])]"
   ]
  },
  {
   "cell_type": "code",
   "execution_count": 64,
   "metadata": {
    "collapsed": true
   },
   "outputs": [],
   "source": [
    "#Adding the one hot encoding in this section\n",
    "onehot1 = pd.get_dummies(df['MARKETINGCHANNELGROUP'])\n",
    "onehot2 = pd.get_dummies(df['ARTISTCATEGORY'])"
   ]
  },
  {
   "cell_type": "code",
   "execution_count": 65,
   "metadata": {},
   "outputs": [],
   "source": [
    "df2=df.join(onehot1)\n",
    "df2=df2.join(onehot2)"
   ]
  },
  {
   "cell_type": "code",
   "execution_count": 70,
   "metadata": {},
   "outputs": [],
   "source": [
    "df2.columns\n",
    "df2['RepeatPurchase'] = (df2.M12TICKETSSOLD >0)*1"
   ]
  },
  {
   "cell_type": "code",
   "execution_count": 102,
   "metadata": {},
   "outputs": [
    {
     "data": {
      "text/plain": [
       "0    112234\n",
       "1     15686\n",
       "Name: RepeatPurchase, dtype: int64"
      ]
     },
     "execution_count": 102,
     "metadata": {},
     "output_type": "execute_result"
    }
   ],
   "source": [
    "df.RepeatPurchase.value_counts()"
   ]
  },
  {
   "cell_type": "code",
   "execution_count": 90,
   "metadata": {},
   "outputs": [
    {
     "data": {
      "text/plain": [
       "(127403, 25)"
      ]
     },
     "execution_count": 90,
     "metadata": {},
     "output_type": "execute_result"
    }
   ],
   "source": [
    "df2.shape"
   ]
  },
  {
   "cell_type": "code",
   "execution_count": 140,
   "metadata": {},
   "outputs": [],
   "source": [
    "df2 = df2[df2.GMSFP>0]\n",
    "y_train = df2.RepeatPurchase\n",
    "X_train = df2.drop('RepeatPurchase',1)\n",
    "X_train = X_train.drop('Segment',1)\n",
    "X_train = X_train.drop('GCFS',1)\n",
    "X_train = X_train.drop('MARKETINGCHANNELGROUP',1)\n",
    "X_train = X_train.drop('USER_ID',1)\n",
    "X_train = X_train.drop('FIRST_PRCHS_DATE',1)\n",
    "X_train = X_train.drop('GENRE_CAT_FINAL',1)\n",
    "X_train = X_train.drop('ARTISTCATEGORY',1)\n",
    "X_train = X_train.drop('TICKETSSOLDFP',1)\n",
    "X_train = X_train.drop('M12TICKETSSOLD',1)\n",
    "X_train = X_train.drop('MultipleGCFRepeatBuyer',1)\n",
    "X_train = X_train.drop('TheaterRepeatBuyer',1)\n",
    "X_train = X_train.drop('One&Done',1)\n",
    "X_train = X_train.drop('M12GMS',1)"
   ]
  },
  {
   "cell_type": "code",
   "execution_count": 141,
   "metadata": {},
   "outputs": [
    {
     "data": {
      "text/plain": [
       "Index([u'DTE', u'GMSFP', u'Direct', u'Paid Search', u'SEO', u'1.TOP 50',\n",
       "       u'2.50-100', u'3.100-200', u'4.200-600', u'5.600-1000', u'6.>1000'],\n",
       "      dtype='object')"
      ]
     },
     "execution_count": 141,
     "metadata": {},
     "output_type": "execute_result"
    }
   ],
   "source": [
    "X_train.columns"
   ]
  },
  {
   "cell_type": "code",
   "execution_count": 143,
   "metadata": {},
   "outputs": [],
   "source": [
    "#Building a decision tree classifier with a gini index\n",
    "#Site referenced http://dataaspirant.com/2017/02/01/decision-tree-algorithm-python-with-scikit-learn/\n",
    "\n",
    "import numpy as np\n",
    "import pandas as pd\n",
    "from sklearn.cross_validation import train_test_split\n",
    "from sklearn.tree import DecisionTreeClassifier\n",
    "from sklearn.metrics import accuracy_score\n",
    "from sklearn import tree\n",
    "\n",
    "import pandas as pd\n",
    "import numpy as np\n",
    "import matplotlib.pyplot as plt\n",
    "%matplotlib inline\n",
    "plt.style.use(\"fivethirtyeight\")\n",
    "from IPython.display import Image\n",
    "from sklearn.cross_validation import train_test_split, cross_val_score\n",
    "from sklearn.metrics import accuracy_score, precision_score, recall_score, confusion_matrix, classification_report, roc_auc_score, roc_curve\n",
    "from sklearn.linear_model import LogisticRegression, LinearRegression\n",
    "from sklearn.datasets import make_classification;\n"
   ]
  },
  {
   "cell_type": "code",
   "execution_count": 144,
   "metadata": {},
   "outputs": [
    {
     "name": "stdout",
     "output_type": "stream",
     "text": [
      "The accuracy score for the training data set is 87.65 percent\n",
      "The model accurately classified 87.84 percent of the testing data\n"
     ]
    }
   ],
   "source": [
    "#Now splitting the data and rerunning\n",
    "#The parameter random state here is used to ensure that everytime we run the same split again, we end \n",
    "#with the exact same dataset\n",
    "\n",
    "#Step 1\n",
    "X_train, X_test, y_train, y_test = train_test_split(X_train, y_train,test_size=0.5, random_state=42)\n",
    "\n",
    "#Step 2\n",
    "logr = LogisticRegression()\n",
    "logr.fit(X_train, y_train)\n",
    "\n",
    "#Step 3\n",
    "#Scoring the model on the training data \n",
    "score = logr.score(X_train,y_train)\n",
    "print \"The accuracy score for the training data set is {:.2f} percent\".format(score*100)\n",
    "\n",
    "pred_labels = logr.predict(X_test)\n",
    "\n",
    "\n",
    "#Step 4\n",
    "testing_score = accuracy_score(y_test, logr.predict(X_test))\n",
    "print (\"The model accurately classified {:.2f} percent of the testing data\".format(testing_score*100))"
   ]
  },
  {
   "cell_type": "code",
   "execution_count": 145,
   "metadata": {},
   "outputs": [
    {
     "data": {
      "text/plain": [
       "array([[55950,     8],\n",
       "       [ 7741,     3]])"
      ]
     },
     "execution_count": 145,
     "metadata": {},
     "output_type": "execute_result"
    }
   ],
   "source": [
    "#Pass the predictions and y_test into a confusion matrix\n",
    "confusion_matrix(y_test, pred_labels)"
   ]
  },
  {
   "cell_type": "code",
   "execution_count": 146,
   "metadata": {},
   "outputs": [
    {
     "name": "stdout",
     "output_type": "stream",
     "text": [
      "The precision score is 27.27 and the recall score is 0.04\n"
     ]
    }
   ],
   "source": [
    "#Calculate precision and recall scores\n",
    "ps = float(precision_score(y_test, pred_labels))\n",
    "rs = float(recall_score(y_test, pred_labels))\n",
    "\n",
    "print (\"The precision score is {:.2f} and the recall score is {:.2f}\".format(ps*100, rs*100))"
   ]
  },
  {
   "cell_type": "code",
   "execution_count": 147,
   "metadata": {
    "collapsed": true
   },
   "outputs": [],
   "source": [
    "#We have to calculate false positive score using our function\n",
    "\n",
    "def FPR(YT, PR): \n",
    "    \"\"\"\n",
    "    YT is the target variable for the testing set\n",
    "    PR is the predictions made on the features of the testing set\n",
    "    \"\"\"\n",
    "    CM = confusion_matrix(YT, PR)\n",
    "    TN = CM[0, 0]\n",
    "    FP = CM[0, 1]\n",
    "    FPR = FP/(float(FP+ TN))\n",
    "    return FPR"
   ]
  },
  {
   "cell_type": "code",
   "execution_count": 148,
   "metadata": {},
   "outputs": [
    {
     "data": {
      "text/plain": [
       "0.00014296436613174166"
      ]
     },
     "execution_count": 148,
     "metadata": {},
     "output_type": "execute_result"
    }
   ],
   "source": [
    "FPR(y_test, pred_labels)"
   ]
  },
  {
   "cell_type": "code",
   "execution_count": 149,
   "metadata": {},
   "outputs": [
    {
     "data": {
      "image/png": "[encoded data removed]",
      "text/plain": [
       "<matplotlib.figure.Figure at 0x114e95d90>"
      ]
     },
     "metadata": {},
     "output_type": "display_data"
    }
   ],
   "source": [
    "#Derive probabilities of class 1 from the test set\n",
    "test_probs = logr.predict_proba(X_test)[:,1]\n",
    "#Pass in the test_probs variable and the true test labels aka y_test in the roc_curve function\n",
    "fpr, tpr, thres = roc_curve(y_test, test_probs)\n",
    "#Will explain the fpr, tpr, thresholds\n",
    "#Plotting False Positive Rates vs the True Positive Rates\n",
    "#Dotted line represents a useless model\n",
    "plt.figure(figsize=(15,11))\n",
    "plt.plot(fpr, tpr, linewidth=8)\n",
    "plt.plot([0,1], [0,1], \"--\", alpha=.7)\n",
    "plt.xlabel(\"False Positive Rate\")\n",
    "plt.ylabel(\"True Positive Rate\")\n",
    "\n",
    "plt.show()\n"
   ]
  },
  {
   "cell_type": "code",
   "execution_count": 150,
   "metadata": {},
   "outputs": [
    {
     "data": {
      "text/plain": [
       "0.56062107503369563"
      ]
     },
     "execution_count": 150,
     "metadata": {},
     "output_type": "execute_result"
    }
   ],
   "source": [
    "#Caculate the area under the curve score using roc_auc_score\n",
    "roc_auc_score(y_test, test_probs)"
   ]
  },
  {
   "cell_type": "code",
   "execution_count": 151,
   "metadata": {},
   "outputs": [
    {
     "data": {
      "image/png": "[encoded data removed]",
      "text/plain": [
       "<matplotlib.figure.Figure at 0x11cc1f110>"
      ]
     },
     "metadata": {},
     "output_type": "display_data"
    }
   ],
   "source": [
    "#Caculate the area under the curve score using roc_auc_score\n",
    "roc_auc_score(y_test, test_probs)\n",
    "plt.figure(figsize=(12,9))\n",
    "plt.plot(thres, fpr, linewidth=5)\n",
    "plt.xlabel(\"Thresholds\")\n",
    "plt.ylabel(\"False Positive Rate\");"
   ]
  },
  {
   "cell_type": "code",
   "execution_count": 152,
   "metadata": {},
   "outputs": [
    {
     "data": {
      "image/png": "[encoded data removed]",
      "text/plain": [
       "<matplotlib.figure.Figure at 0x11ba2cb10>"
      ]
     },
     "metadata": {},
     "output_type": "display_data"
    }
   ],
   "source": [
    "plt.figure(figsize=(12,9))\n",
    "plt.plot(thres, tpr, linewidth=5)\n",
    "plt.xlabel(\"Thresholds\")\n",
    "plt.ylabel(\"True Positive Rate\");"
   ]
  },
  {
   "cell_type": "code",
   "execution_count": null,
   "metadata": {
    "collapsed": true
   },
   "outputs": [],
   "source": []
  },
  {
   "cell_type": "code",
   "execution_count": 153,
   "metadata": {},
   "outputs": [
    {
     "data": {
      "image/png": "[encoded data removed]",
      "text/plain": [
       "<IPython.core.display.Image object>"
      ]
     },
     "execution_count": 153,
     "metadata": {},
     "output_type": "execute_result"
    }
   ],
   "source": [
    "#Building a decision tree classifier with a gini index\n",
    "#Site referenced http://dataaspirant.com/2017/02/01/decision-tree-algorithm-python-with-scikit-learn/\n",
    "\n",
    "df2 = df2[df2.GMSFP>0]\n",
    "y_train = df2.Segment\n",
    "X_train = df2.drop('RepeatPurchase',1)\n",
    "X_train = X_train.drop('Segment',1)\n",
    "X_train = X_train.drop('GCFS',1)\n",
    "X_train = X_train.drop('MARKETINGCHANNELGROUP',1)\n",
    "X_train = X_train.drop('USER_ID',1)\n",
    "X_train = X_train.drop('FIRST_PRCHS_DATE',1)\n",
    "X_train = X_train.drop('GENRE_CAT_FINAL',1)\n",
    "X_train = X_train.drop('ARTISTCATEGORY',1)\n",
    "X_train = X_train.drop('TICKETSSOLDFP',1)\n",
    "X_train = X_train.drop('M12TICKETSSOLD',1)\n",
    "X_train = X_train.drop('MultipleGCFRepeatBuyer',1)\n",
    "X_train = X_train.drop('TheaterRepeatBuyer',1)\n",
    "X_train = X_train.drop('One&Done',1)\n",
    "X_train = X_train.drop('M12GMS',1)\n",
    "\n",
    "import numpy as np\n",
    "import pandas as pd\n",
    "from sklearn.cross_validation import train_test_split\n",
    "from sklearn.tree import DecisionTreeClassifier\n",
    "from sklearn.metrics import accuracy_score\n",
    "from sklearn import tree\n",
    "\n",
    "clf_gini = DecisionTreeClassifier(class_weight=None, criterion='gini', max_depth=2,\n",
    "            max_features=None, max_leaf_nodes=None, min_samples_leaf=5,\n",
    "            min_samples_split=2, min_weight_fraction_leaf=0.0,\n",
    "            presort=False, random_state=100, splitter='best')\n",
    "\n",
    "clf_gini.fit(X_train, y_train)\n",
    "\n",
    "\n",
    "from sklearn import tree\n",
    "import graphviz \n",
    "\n",
    "from sklearn.tree import export_graphviz\n",
    "\n",
    "export_graphviz(clf_gini, filled=True, out_file='tree.dot',feature_names=X_train.columns)\n",
    "\n",
    "!dot -Tpng tree.dot > tree.png # to convert the tree in a png image\n",
    "\n",
    "\n",
    "from IPython.display import Image\n",
    "Image(filename='tree.png')"
   ]
  },
  {
   "cell_type": "code",
   "execution_count": null,
   "metadata": {
    "collapsed": true
   },
   "outputs": [],
   "source": []
  },
  {
   "cell_type": "code",
   "execution_count": null,
   "metadata": {
    "collapsed": true
   },
   "outputs": [],
   "source": []
  }
 ],
 "metadata": {
  "kernelspec": {
   "display_name": "Python 2",
   "language": "python",
   "name": "python2"
  },
  "language_info": {
   "codemirror_mode": {
    "name": "ipython",
    "version": 2
   },
   "file_extension": ".py",
   "mimetype": "text/x-python",
   "name": "python",
   "nbconvert_exporter": "python",
   "pygments_lexer": "ipython2",
   "version": "2.7.13"
  }
 },
 "nbformat": 4,
 "nbformat_minor": 2
}
